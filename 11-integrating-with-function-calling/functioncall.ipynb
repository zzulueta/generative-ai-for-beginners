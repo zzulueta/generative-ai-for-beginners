{
 "cells": [
  {
   "cell_type": "markdown",
   "metadata": {},
   "source": [
    "Function Calling example"
   ]
  },
  {
   "cell_type": "markdown",
   "metadata": {},
   "source": [
    "Load Azure OpenAI"
   ]
  },
  {
   "cell_type": "code",
   "execution_count": 32,
   "metadata": {},
   "outputs": [],
   "source": [
    "import os\n",
    "import json\n",
    "from openai import AzureOpenAI\n",
    "from dotenv import load_dotenv\n",
    "load_dotenv()\n",
    "\n",
    "client = AzureOpenAI(\n",
    "  api_key=os.environ['AZURE_OPENAI_KEY'],  # this is also the default, it can be omitted\n",
    "  api_version = \"2023-07-01-preview\"\n",
    "  )\n",
    "\n",
    "deployment=os.environ['AZURE_OPENAI_DEPLOYMENT']"
   ]
  },
  {
   "cell_type": "markdown",
   "metadata": {},
   "source": [
    "Load Azure Cosmos DB"
   ]
  },
  {
   "cell_type": "code",
   "execution_count": 33,
   "metadata": {},
   "outputs": [],
   "source": [
    "from azure.cosmos import CosmosClient\n",
    "from dotenv import load_dotenv\n",
    "import os\n",
    "import json\n",
    "\n",
    "load_dotenv()\n",
    "# Initialize Cosmos Client\n",
    "url = os.getenv('COSMOS_DB_ENDPOINT')\n",
    "key = os.getenv('COSMOS_DB_KEY')\n",
    "cosmosClient = CosmosClient(url, key)\n",
    "\n",
    "# Select database\n",
    "database_name = 'students'\n",
    "database = cosmosClient.get_database_client(database_name)\n",
    "\n",
    "# Select container\n",
    "container_name = 'students'\n",
    "container = database.get_container_client(container_name)"
   ]
  },
  {
   "cell_type": "markdown",
   "metadata": {},
   "source": [
    "User Input"
   ]
  },
  {
   "cell_type": "code",
   "execution_count": 34,
   "metadata": {},
   "outputs": [],
   "source": [
    "messages= [ {\"role\": \"user\", \"content\": \"Find me student named Jose Rizal\"} ]"
   ]
  },
  {
   "cell_type": "markdown",
   "metadata": {},
   "source": [
    "Define Functions"
   ]
  },
  {
   "cell_type": "code",
   "execution_count": 35,
   "metadata": {},
   "outputs": [],
   "source": [
    "functions = [\n",
    "   {\n",
    "      \"name\":\"search_courses\",\n",
    "      \"description\":\"Retrieves courses from the search index based on the parameters provided\",\n",
    "      \"parameters\":{\n",
    "         \"type\":\"object\",\n",
    "         \"properties\":{\n",
    "            \"role\":{\n",
    "               \"type\":\"string\",\n",
    "               \"description\":\"The role of the learner (administrator, ai-edge-engineer, ai-engineer, auditor, business-analyst, business-owner, business-user, data-analyst, data-engineer, data-scientist, database-administrator, developer, devops-engineer, functional-consultant, higher-ed-educator, identity-access-admin, ip-admin, k-12-educator, maker, network-engineer, parent-guardian, privacy-manager, risk-practitioner, school-leader, security-engineer, security-operations-analyst, service-adoption-specialist, solution-architect, startup-founder, student, support-engineer, technical-writer, technology-manager)\"\n",
    "            },\n",
    "            \"product\":{\n",
    "               \"type\":\"string\",\n",
    "               \"description\":\"The product that the lesson is covering (dotnet, azure, bing, clarity, consumer, dynamics-365, entra, fabric, flip, github, hololens, industry-solutions, internet-explorer, intune, m365, microsoft-authentication-library, microsoft-edge, mem, ms-graph, makecode, power-platform, priva, office-teams, viva, microsoft-defender, microsoft-purview, minecraft, mrtk, ms-copilot, ms-website, nuance, office-365, bonsai, qdk, sql-server, sysinternals, vs, vs-app-center, vs-code, windows, xbox)\"\n",
    "            },\n",
    "            \"level\":{\n",
    "               \"type\":\"string\",\n",
    "               \"description\":\"The level of experience the learner has prior to taking the course (i.e. beginner, intermediate, advanced)\"\n",
    "            }\n",
    "         },\n",
    "         \"required\":[\n",
    "            \"role\"\n",
    "         ]\n",
    "      }\n",
    "   },\n",
    "   {\n",
    "      \"name\":\"search_exams\",\n",
    "      \"description\":\"Retrieves exams from the search index based on the parameters provided\",\n",
    "      \"parameters\":{\n",
    "         \"type\":\"object\",\n",
    "         \"properties\":{\n",
    "            \"role\":{\n",
    "               \"type\":\"string\",\n",
    "               \"description\":\"The role of the examiner (administrator, ai-edge-engineer, ai-engineer, auditor, business-analyst, business-owner, business-user, data-analyst, data-engineer, data-scientist, database-administrator, developer, devops-engineer, functional-consultant, higher-ed-educator, identity-access-admin, ip-admin, k-12-educator, maker, network-engineer, parent-guardian, privacy-manager, risk-practitioner, school-leader, security-engineer, security-operations-analyst, service-adoption-specialist, solution-architect, startup-founder, student, support-engineer, technical-writer, technology-manager)\"\n",
    "            },\n",
    "            \"product\":{\n",
    "               \"type\":\"string\",\n",
    "               \"description\":\"The product that the lesson is covering (dotnet, azure, bing, clarity, consumer, dynamics-365, entra, fabric, flip, github, hololens, industry-solutions, internet-explorer, intune, m365, microsoft-authentication-library, microsoft-edge, mem, ms-graph, makecode, power-platform, priva, office-teams, viva, microsoft-defender, microsoft-purview, minecraft, mrtk, ms-copilot, ms-website, nuance, office-365, bonsai, qdk, sql-server, sysinternals, vs, vs-app-center, vs-code, windows, xbox)\"\n",
    "            }\n",
    "         },\n",
    "         \"required\":[]\n",
    "      }\n",
    "   },\n",
    "   {\n",
    "      \"name\":\"search_student\",\n",
    "      \"description\":\"Retrieves student based on the parameters provided\",\n",
    "      \"parameters\":{\n",
    "         \"type\":\"object\",\n",
    "         \"properties\":{\n",
    "            \"name\":{\n",
    "               \"type\":\"string\",\n",
    "               \"description\":\"The name of the student\"},\n",
    "            }\n",
    "         },\n",
    "         \"required\":[\n",
    "             \"name\"\n",
    "         ]\n",
    "   }   \n",
    "]"
   ]
  },
  {
   "cell_type": "markdown",
   "metadata": {},
   "source": [
    "Making the function call. User input + Functions to be added in LLM"
   ]
  },
  {
   "cell_type": "code",
   "execution_count": 36,
   "metadata": {},
   "outputs": [
    {
     "name": "stdout",
     "output_type": "stream",
     "text": [
      "ChatCompletionMessage(content=None, role='assistant', function_call=FunctionCall(arguments='{\\n  \"name\": \"Jose Rizal\"\\n}', name='search_student'), tool_calls=None)\n",
      "search_student\n"
     ]
    }
   ],
   "source": [
    "response = client.chat.completions.create(model=deployment, \n",
    "                                        messages=messages,\n",
    "                                        functions=functions, \n",
    "                                        function_call=\"auto\") \n",
    "\n",
    "response_message = response.choices[0].message\n",
    "\n",
    "print(response_message)\n",
    "print(response_message.function_call.name)"
   ]
  },
  {
   "cell_type": "markdown",
   "metadata": {},
   "source": [
    "Define function that we will call in the API"
   ]
  },
  {
   "cell_type": "code",
   "execution_count": 37,
   "metadata": {},
   "outputs": [],
   "source": [
    "import requests\n",
    "\n",
    "def search_courses(role, product, level):\n",
    "    url = \"https://learn.microsoft.com/api/catalog/\"\n",
    "    params = {\n",
    "        \"role\": role,\n",
    "        \"product\": product,\n",
    "        \"level\": level\n",
    "    }\n",
    "    response = requests.get(url, params=params)\n",
    "    modules = response.json()[\"modules\"]\n",
    "    results = []\n",
    "    for module in modules[:5]:\n",
    "        title = module[\"title\"]\n",
    "        url = module[\"url\"]\n",
    "        results.append({\"title\": title, \"url\": url})\n",
    "    return str(results)\n",
    "\n",
    "def search_exams(role, product):\n",
    "    url = \"https://learn.microsoft.com/api/catalog/\"\n",
    "    params = {\n",
    "        \"type\": \"exams\"\n",
    "    }\n",
    "    response = requests.get(url, params=params)\n",
    "    modules = response.json()[\"exams\"]\n",
    "    results = []\n",
    "    role = role.replace(' ', '-').lower()\n",
    "    product = product.replace(' ', '-').lower()\n",
    "    \n",
    "    for module in modules[:5]:\n",
    "        title = module[\"title\"]\n",
    "        url = module[\"url\"]\n",
    "        if any(product in p for p in module[\"products\"]) or any(role in r for r in module[\"roles\"]):\n",
    "            results.append({\"title\": title, \"url\": url})\n",
    "    return str(results)\n",
    "\n"
   ]
  },
  {
   "cell_type": "markdown",
   "metadata": {},
   "source": [
    "Find a specific student"
   ]
  },
  {
   "cell_type": "code",
   "execution_count": 41,
   "metadata": {},
   "outputs": [
    {
     "data": {
      "text/plain": [
       "{'name': 'Jose Rizal'}"
      ]
     },
     "execution_count": 41,
     "metadata": {},
     "output_type": "execute_result"
    }
   ],
   "source": [
    "def search_student(name):\n",
    "    name=name\n",
    "    query = f\"SELECT * FROM c WHERE c.name = '{name}'\"\n",
    "    items = list(container.query_items(query=query, enable_cross_partition_query=True))\n",
    "    return json.dumps(items)\n",
    "\n",
    "json.loads(response_message.function_call.arguments)\n"
   ]
  },
  {
   "cell_type": "markdown",
   "metadata": {},
   "source": [
    "As a best practice, we will then see if the model wants to call a function.  After that, we will create one of the available functions and match it to the function that is being called. \n",
    "We will then take the arguments of the function and map them to arguments of from the LLM.\n",
    "\n",
    "Lastly, we will append the function call message and the values that were returned by the `search_courses` message. This gives the LLM all the information it needs to\n",
    "respond to the user using natural language. "
   ]
  },
  {
   "cell_type": "code",
   "execution_count": 42,
   "metadata": {},
   "outputs": [
    {
     "name": "stdout",
     "output_type": "stream",
     "text": [
      "Recommended Function call:\n",
      "search_student\n",
      "\n",
      "Output of function call:\n",
      "[{\"id\": \"004\", \"name\": \"Jose Rizal\", \"course\": \"Humanities\", \"grade\": 3.75, \"sex\": \"M\", \"_rid\": \"rIAfAOuk+ioEAAAAAAAAAA==\", \"_self\": \"dbs/rIAfAA==/colls/rIAfAOuk+io=/docs/rIAfAOuk+ioEAAAAAAAAAA==/\", \"_etag\": \"\\\"04000f6c-0000-1800-0000-66057e9f0000\\\"\", \"_attachments\": \"attachments/\", \"_ts\": 1711636127}]\n",
      "<class 'str'>\n",
      "[{'role': 'user', 'content': 'Find me student named Jose Rizal'}, {'role': 'assistant', 'function_call': {'name': 'search_student', 'arguments': '{\\n  \"name\": \"Jose Rizal\"\\n}'}, 'content': None}, {'role': 'function', 'name': 'search_student', 'content': '[{\"id\": \"005\", \"name\": \"Teodora Agoncillo\", \"course\": \"Culinary Arts\", \"grade\": 2.95, \"sex\": \"F\", \"_rid\": \"rIAfAOuk+ioFAAAAAAAAAA==\", \"_self\": \"dbs/rIAfAA==/colls/rIAfAOuk+io=/docs/rIAfAOuk+ioFAAAAAAAAAA==/\", \"_etag\": \"\\\\\"0400406c-0000-1800-0000-66057f9b0000\\\\\"\", \"_attachments\": \"attachments/\", \"_ts\": 1711636379}]'}, {'role': 'assistant', 'function_call': {'name': 'search_student', 'arguments': '{\\n  \"name\": \"Jose Rizal\"\\n}'}, 'content': None}, {'role': 'function', 'name': 'search_student', 'content': '[{\"id\": \"004\", \"name\": \"Jose Rizal\", \"course\": \"Humanities\", \"grade\": 3.75, \"sex\": \"M\", \"_rid\": \"rIAfAOuk+ioEAAAAAAAAAA==\", \"_self\": \"dbs/rIAfAA==/colls/rIAfAOuk+io=/docs/rIAfAOuk+ioEAAAAAAAAAA==/\", \"_etag\": \"\\\\\"04000f6c-0000-1800-0000-66057e9f0000\\\\\"\", \"_attachments\": \"attachments/\", \"_ts\": 1711636127}]'}]\n"
     ]
    }
   ],
   "source": [
    "# Check if the model wants to call a function\n",
    "if response_message.function_call.name:\n",
    "    print(\"Recommended Function call:\")\n",
    "    print(response_message.function_call.name)\n",
    "    print()\n",
    "\n",
    "    # Call the function. \n",
    "    function_name = response_message.function_call.name\n",
    "    \n",
    "    available_functions = {\n",
    "            \"search_courses\": search_courses,\n",
    "            \"search_exams\": search_exams,\n",
    "            \"search_student\": search_student\n",
    "    }\n",
    "    function_to_call = available_functions[function_name] \n",
    "    \n",
    "    function_args = json.loads(response_message.function_call.arguments)\n",
    "    function_response = function_to_call(**function_args)\n",
    "\n",
    "    print(\"Output of function call:\")\n",
    "    print(function_response)\n",
    "    print(type(function_response))\n",
    "\n",
    "\n",
    "    # Add the assistant response and function response to the messages\n",
    "    messages.append( # adding assistant response to messages\n",
    "        {\n",
    "            \"role\": response_message.role,\n",
    "            \"function_call\": {\n",
    "                \"name\": function_name,\n",
    "                \"arguments\": response_message.function_call.arguments,\n",
    "            },\n",
    "            \"content\": None\n",
    "        }\n",
    "    )\n",
    "    messages.append( # adding function response to messages\n",
    "        {\n",
    "            \"role\": \"function\",\n",
    "            \"name\": function_name,\n",
    "            \"content\":function_response,\n",
    "        }\n",
    "    )\n",
    "\n",
    "    print(messages)\n",
    "\n"
   ]
  },
  {
   "cell_type": "markdown",
   "metadata": {},
   "source": [
    "Now we will send the updated message to the LLM so we can receive a natural language response instead of an API JSON formatted response. "
   ]
  },
  {
   "cell_type": "code",
   "execution_count": 43,
   "metadata": {},
   "outputs": [
    {
     "name": "stdout",
     "output_type": "stream",
     "text": [
      "Messages in next request:\n",
      "[{'role': 'user', 'content': 'Find me student named Jose Rizal'}, {'role': 'assistant', 'function_call': {'name': 'search_student', 'arguments': '{\\n  \"name\": \"Jose Rizal\"\\n}'}, 'content': None}, {'role': 'function', 'name': 'search_student', 'content': '[{\"id\": \"005\", \"name\": \"Teodora Agoncillo\", \"course\": \"Culinary Arts\", \"grade\": 2.95, \"sex\": \"F\", \"_rid\": \"rIAfAOuk+ioFAAAAAAAAAA==\", \"_self\": \"dbs/rIAfAA==/colls/rIAfAOuk+io=/docs/rIAfAOuk+ioFAAAAAAAAAA==/\", \"_etag\": \"\\\\\"0400406c-0000-1800-0000-66057f9b0000\\\\\"\", \"_attachments\": \"attachments/\", \"_ts\": 1711636379}]'}, {'role': 'assistant', 'function_call': {'name': 'search_student', 'arguments': '{\\n  \"name\": \"Jose Rizal\"\\n}'}, 'content': None}, {'role': 'function', 'name': 'search_student', 'content': '[{\"id\": \"004\", \"name\": \"Jose Rizal\", \"course\": \"Humanities\", \"grade\": 3.75, \"sex\": \"M\", \"_rid\": \"rIAfAOuk+ioEAAAAAAAAAA==\", \"_self\": \"dbs/rIAfAA==/colls/rIAfAOuk+io=/docs/rIAfAOuk+ioEAAAAAAAAAA==/\", \"_etag\": \"\\\\\"04000f6c-0000-1800-0000-66057e9f0000\\\\\"\", \"_attachments\": \"attachments/\", \"_ts\": 1711636127}]'}]\n",
      "\n",
      "I found a student named Jose Rizal. He is enrolled in the Humanities course and has a grade of 3.75.\n"
     ]
    },
    {
     "ename": "",
     "evalue": "",
     "output_type": "error",
     "traceback": [
      "\u001b[1;31mThe Kernel crashed while executing code in the current cell or a previous cell. \n",
      "\u001b[1;31mPlease review the code in the cell(s) to identify a possible cause of the failure. \n",
      "\u001b[1;31mClick <a href='https://aka.ms/vscodeJupyterKernelCrash'>here</a> for more info. \n",
      "\u001b[1;31mView Jupyter <a href='command:jupyter.viewOutput'>log</a> for further details."
     ]
    }
   ],
   "source": [
    "print(\"Messages in next request:\")\n",
    "print(messages)\n",
    "print()\n",
    "\n",
    "second_response = client.chat.completions.create(\n",
    "    messages=messages,\n",
    "    model=deployment,\n",
    "    function_call=\"auto\",\n",
    "    functions=functions,\n",
    "    temperature=0\n",
    "        )  # get a new response from GPT where it can see the function response\n",
    "\n",
    "\n",
    "print(second_response.choices[0].message.content)"
   ]
  }
 ],
 "metadata": {
  "kernelspec": {
   "display_name": "Python 3",
   "language": "python",
   "name": "python3"
  },
  "language_info": {
   "codemirror_mode": {
    "name": "ipython",
    "version": 3
   },
   "file_extension": ".py",
   "mimetype": "text/x-python",
   "name": "python",
   "nbconvert_exporter": "python",
   "pygments_lexer": "ipython3",
   "version": "3.11.3"
  }
 },
 "nbformat": 4,
 "nbformat_minor": 2
}
