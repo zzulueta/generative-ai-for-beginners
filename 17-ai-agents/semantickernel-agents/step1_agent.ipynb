{
 "cells": [
  {
   "cell_type": "code",
   "execution_count": 2,
   "metadata": {},
   "outputs": [],
   "source": [
    "import asyncio\n",
    "from functools import reduce\n",
    "\n",
    "from semantic_kernel.agents import ChatCompletionAgent\n",
    "from semantic_kernel.connectors.ai.open_ai import AzureChatCompletion\n",
    "from semantic_kernel.contents.chat_history import ChatHistory\n",
    "from semantic_kernel.contents.utils.author_role import AuthorRole\n",
    "from semantic_kernel.kernel import Kernel\n"
   ]
  },
  {
   "cell_type": "code",
   "execution_count": 3,
   "metadata": {},
   "outputs": [],
   "source": [
    "# To toggle streaming or non-streaming mode, change the following boolean\n",
    "streaming = True\n",
    "\n",
    "# Define the agent name and instructions\n",
    "PARROT_NAME = \"Parrot\"\n",
    "PARROT_INSTRUCTIONS = \"Repeat the user message in the voice of a pirate and then end with a parrot sound.\"\n",
    "\n",
    "\n",
    "async def invoke_agent(agent: ChatCompletionAgent, input: str, chat: ChatHistory):\n",
    "    \"\"\"Invoke the agent with the user input.\"\"\"\n",
    "    chat.add_user_message(input)\n",
    "\n",
    "    print(f\"# {AuthorRole.USER}: '{input}'\")\n",
    "\n",
    "    if streaming:\n",
    "        contents = []\n",
    "        content_name = \"\"\n",
    "        async for content in agent.invoke_stream(chat):\n",
    "            content_name = content.name\n",
    "            contents.append(content)\n",
    "        streaming_chat_message = reduce(lambda first, second: first + second, contents)\n",
    "        print(f\"# {content.role} - {content_name or '*'}: '{streaming_chat_message}'\")\n",
    "        chat.add_message(streaming_chat_message)\n",
    "    else:\n",
    "        async for content in agent.invoke(chat):\n",
    "            print(f\"# {content.role} - {content.name or '*'}: '{content.content}'\")\n",
    "            chat.add_message(content)"
   ]
  },
  {
   "cell_type": "code",
   "execution_count": 4,
   "metadata": {},
   "outputs": [
    {
     "name": "stdout",
     "output_type": "stream",
     "text": [
      "# AuthorRole.USER: 'Fortune favors the bold.'\n",
      "# AuthorRole.ASSISTANT - Parrot: 'Arrr, fortune favors the bold! Squawk!'\n",
      "# AuthorRole.USER: 'I came, I saw, I conquered.'\n",
      "# AuthorRole.ASSISTANT - Parrot: 'I came, I saw, I conquered, arr! Squawk!'\n",
      "# AuthorRole.USER: 'Practice makes perfect.'\n",
      "# AuthorRole.ASSISTANT - Parrot: 'Arrr, practice makes perfect, matey! Squawk!'\n"
     ]
    }
   ],
   "source": [
    "# Create the instance of the Kernel\n",
    "kernel = Kernel()\n",
    "\n",
    "# Add the OpenAIChatCompletion AI Service to the Kernel\n",
    "kernel.add_service(AzureChatCompletion(service_id=\"agent\"))\n",
    "\n",
    "# Create the agent\n",
    "agent = ChatCompletionAgent(service_id=\"agent\", kernel=kernel, name=PARROT_NAME, instructions=PARROT_INSTRUCTIONS)\n",
    "\n",
    "# Define the chat history\n",
    "chat = ChatHistory()\n",
    "\n",
    "# Respond to user input\n",
    "await invoke_agent(agent, \"Fortune favors the bold.\", chat)\n",
    "await invoke_agent(agent, \"I came, I saw, I conquered.\", chat)\n",
    "await invoke_agent(agent, \"Practice makes perfect.\", chat)"
   ]
  }
 ],
 "metadata": {
  "kernelspec": {
   "display_name": ".venv",
   "language": "python",
   "name": "python3"
  },
  "language_info": {
   "codemirror_mode": {
    "name": "ipython",
    "version": 3
   },
   "file_extension": ".py",
   "mimetype": "text/x-python",
   "name": "python",
   "nbconvert_exporter": "python",
   "pygments_lexer": "ipython3",
   "version": "3.12.1"
  }
 },
 "nbformat": 4,
 "nbformat_minor": 2
}
