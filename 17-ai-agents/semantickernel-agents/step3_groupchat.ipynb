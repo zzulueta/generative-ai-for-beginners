{
 "cells": [
  {
   "cell_type": "code",
   "execution_count": 1,
   "metadata": {},
   "outputs": [],
   "source": [
    "import asyncio\n",
    "\n",
    "from semantic_kernel.agents import AgentGroupChat, ChatCompletionAgent\n",
    "from semantic_kernel.agents.strategies.termination.termination_strategy import TerminationStrategy\n",
    "from semantic_kernel.connectors.ai.open_ai.services.azure_chat_completion import AzureChatCompletion\n",
    "from semantic_kernel.contents.chat_message_content import ChatMessageContent\n",
    "from semantic_kernel.contents.utils.author_role import AuthorRole\n",
    "from semantic_kernel.kernel import Kernel"
   ]
  },
  {
   "cell_type": "code",
   "execution_count": 2,
   "metadata": {},
   "outputs": [],
   "source": [
    "class ApprovalTerminationStrategy(TerminationStrategy):\n",
    "    \"\"\"A strategy for determining when an agent should terminate.\"\"\"\n",
    "\n",
    "    async def should_agent_terminate(self, agent, history):\n",
    "        \"\"\"Check if the agent should terminate.\"\"\"\n",
    "        return \"approved\" in history[-1].content.lower()"
   ]
  },
  {
   "cell_type": "code",
   "execution_count": 3,
   "metadata": {},
   "outputs": [],
   "source": [
    "REVIEWER_NAME = \"ArtDirector\"\n",
    "REVIEWER_INSTRUCTIONS = \"\"\"\n",
    "You are an art director who has opinions about copywriting born of a love for David Ogilvy.\n",
    "The goal is to determine if the given copy is acceptable to print.\n",
    "If so, state that it is approved.\n",
    "If not, provide insight on how to refine suggested copy without example.\n",
    "\"\"\"\n",
    "\n",
    "COPYWRITER_NAME = \"CopyWriter\"\n",
    "COPYWRITER_INSTRUCTIONS = \"\"\"\n",
    "You are a copywriter with ten years of experience and are known for brevity and a dry humor.\n",
    "The goal is to refine and decide on the single best copy as an expert in the field.\n",
    "Only provide a single proposal per response.\n",
    "You're laser focused on the goal at hand.\n",
    "Don't waste time with chit chat.\n",
    "Consider suggestions when refining an idea.\n",
    "\"\"\""
   ]
  },
  {
   "cell_type": "code",
   "execution_count": 4,
   "metadata": {},
   "outputs": [],
   "source": [
    "def _create_kernel_with_chat_completion(service_id: str) -> Kernel:\n",
    "    kernel = Kernel()\n",
    "    kernel.add_service(AzureChatCompletion(service_id=service_id))\n",
    "    return kernel"
   ]
  },
  {
   "cell_type": "code",
   "execution_count": 6,
   "metadata": {},
   "outputs": [
    {
     "name": "stdout",
     "output_type": "stream",
     "text": [
      "# AuthorRole.USER: 'a slogan for a new line of electric cars.'\n",
      "# AuthorRole.ASSISTANT - CopyWriter: '\"Drive the Future, Today.\"'\n",
      "# AuthorRole.ASSISTANT - ArtDirector: 'This slogan is succinct and forward-looking, but it could be more specific to electric cars to emphasize the unique value proposition.\n",
      "\n",
      "Refinement: Highlight the electric aspect by incorporating elements like sustainability, innovation, or zero-emission driving. \n",
      "\n",
      "Consider something like: \"Drive Sustainable. Drive the Future.\"'\n",
      "# AuthorRole.ASSISTANT - CopyWriter: '\"Silent. Powerful. Electric.\"'\n",
      "# AuthorRole.ASSISTANT - ArtDirector: 'This slogan effectively captures key elements of electric cars, but it could be refined for greater impact and clarity.\n",
      "\n",
      "Refinement: Ensure it directly conveys the benefits to the consumer, perhaps integrating an emotional or aspirational component. \n",
      "\n",
      "Try to evoke a sense of revolution or personal empowerment.'\n",
      "# AuthorRole.ASSISTANT - CopyWriter: '\"Empower Your Journey, Electrically.\"'\n",
      "# AuthorRole.ASSISTANT - ArtDirector: 'While this slogan does convey a sense of empowerment and ties in the electric aspect, it could be more concise and impactful.\n",
      "\n",
      "Refinement: Focus on making the message punchier and more direct. Consider simplifying the language to make the slogan memorable and instantly recognizable.\n",
      "\n",
      "Something like: \"Electrify Your Journey.\"'\n",
      "# AuthorRole.ASSISTANT - CopyWriter: '\"Electrify Your Drive.\"'\n",
      "# AuthorRole.ASSISTANT - ArtDirector: 'Approved. This slogan is concise, impactful, and clearly communicates the unique selling proposition of electric cars. Excellent work!'\n",
      "# IS COMPLETE: True\n"
     ]
    }
   ],
   "source": [
    "agent_reviewer = ChatCompletionAgent(\n",
    "    service_id=\"artdirector\",\n",
    "    kernel=_create_kernel_with_chat_completion(\"artdirector\"),\n",
    "    name=REVIEWER_NAME,\n",
    "    instructions=REVIEWER_INSTRUCTIONS,\n",
    ")\n",
    "\n",
    "agent_writer = ChatCompletionAgent(\n",
    "    service_id=\"copywriter\",\n",
    "    kernel=_create_kernel_with_chat_completion(\"copywriter\"),\n",
    "    name=COPYWRITER_NAME,\n",
    "    instructions=COPYWRITER_INSTRUCTIONS,\n",
    ")\n",
    "\n",
    "chat = AgentGroupChat(\n",
    "    agents=[agent_writer, agent_reviewer],\n",
    "    termination_strategy=ApprovalTerminationStrategy(agents=[agent_reviewer], maximum_iterations=10),\n",
    ")\n",
    "\n",
    "input = \"a slogan for a new line of electric cars.\"\n",
    "\n",
    "await chat.add_chat_message(ChatMessageContent(role=AuthorRole.USER, content=input))\n",
    "print(f\"# {AuthorRole.USER}: '{input}'\")\n",
    "\n",
    "async for content in chat.invoke():\n",
    "    print(f\"# {content.role} - {content.name or '*'}: '{content.content}'\")\n",
    "\n",
    "print(f\"# IS COMPLETE: {chat.is_complete}\")"
   ]
  }
 ],
 "metadata": {
  "kernelspec": {
   "display_name": ".venv",
   "language": "python",
   "name": "python3"
  },
  "language_info": {
   "codemirror_mode": {
    "name": "ipython",
    "version": 3
   },
   "file_extension": ".py",
   "mimetype": "text/x-python",
   "name": "python",
   "nbconvert_exporter": "python",
   "pygments_lexer": "ipython3",
   "version": "3.12.1"
  }
 },
 "nbformat": 4,
 "nbformat_minor": 2
}
