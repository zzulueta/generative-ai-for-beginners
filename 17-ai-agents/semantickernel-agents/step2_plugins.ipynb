{
 "cells": [
  {
   "cell_type": "code",
   "execution_count": 1,
   "metadata": {},
   "outputs": [],
   "source": [
    "import asyncio\n",
    "from typing import Annotated\n",
    "\n",
    "from semantic_kernel.agents import ChatCompletionAgent\n",
    "from semantic_kernel.connectors.ai.function_choice_behavior import FunctionChoiceBehavior\n",
    "from semantic_kernel.connectors.ai.open_ai import AzureChatCompletion\n",
    "from semantic_kernel.contents.chat_history import ChatHistory\n",
    "from semantic_kernel.contents.utils.author_role import AuthorRole\n",
    "from semantic_kernel.functions.kernel_function_decorator import kernel_function\n",
    "from semantic_kernel.kernel import Kernel"
   ]
  },
  {
   "cell_type": "code",
   "execution_count": 11,
   "metadata": {},
   "outputs": [],
   "source": [
    "# This sample allows for a streaming response verus a non-streaming response\n",
    "streaming = False\n",
    "\n",
    "# Define the agent name and instructions\n",
    "HOST_NAME = \"Host\"\n",
    "HOST_INSTRUCTIONS = \"Answer questions about the menu.\"\n",
    "\n",
    "\n",
    "# Define a sample plugin for the sample\n",
    "class MenuPlugin:\n",
    "    \"\"\"A sample Menu Plugin used for the concept sample.\"\"\"\n",
    "\n",
    "    @kernel_function(description=\"Provides a list of specials from the menu.\")\n",
    "    def get_specials(self) -> Annotated[str, \"Returns the specials from the menu.\"]:\n",
    "        return \"\"\"\n",
    "        Special Soup: Clam Chowder\n",
    "        Special Salad: Cobb Salad\n",
    "        Special Drink: Chai Tea\n",
    "        \"\"\"\n",
    "\n",
    "    @kernel_function(description=\"Provides the price of the requested menu item.\")\n",
    "    def get_item_price(self, \n",
    "        menu_item: Annotated[str, \"The name of the menu item.\"]) -> Annotated[str, \"Returns the price of the menu item.\"]:\n",
    "        if menu_item == \"Clam Chowder\":\n",
    "            return 9.99\n",
    "        elif menu_item == \"Cobb Salad\":\n",
    "            return 8.50\n",
    "        elif menu_item == \"Chai Tea\":\n",
    "            return 3.55\n",
    "        else:\n",
    "            return \"Item not found\""
   ]
  },
  {
   "cell_type": "code",
   "execution_count": 12,
   "metadata": {},
   "outputs": [],
   "source": [
    "# A helper method to invoke the agent with the user input\n",
    "async def invoke_agent(agent: ChatCompletionAgent, input: str, chat: ChatHistory) -> None:\n",
    "    \"\"\"Invoke the agent with the user input.\"\"\"\n",
    "    chat.add_user_message(input)\n",
    "\n",
    "    print(f\"# {AuthorRole.USER}: '{input}'\")\n",
    "\n",
    "    if streaming:\n",
    "        contents = []\n",
    "        content_name = \"\"\n",
    "        async for content in agent.invoke_stream(chat):\n",
    "            content_name = content.name\n",
    "            contents.append(content)\n",
    "        message_content = \"\".join([content.content for content in contents])\n",
    "        print(f\"# {content.role} - {content_name or '*'}: '{message_content}'\")\n",
    "        chat.add_assistant_message(message_content)\n",
    "    else:\n",
    "        async for content in agent.invoke(chat):\n",
    "            print(f\"# {content.role} - {content.name or '*'}: '{content.content}'\")\n",
    "        chat.add_message(content)\n"
   ]
  },
  {
   "cell_type": "code",
   "execution_count": 14,
   "metadata": {},
   "outputs": [
    {
     "name": "stdout",
     "output_type": "stream",
     "text": [
      "# AuthorRole.USER: 'Hello'\n",
      "# AuthorRole.ASSISTANT - Host: 'Hi there! How can I assist you today?'\n",
      "# AuthorRole.USER: 'What is the special soup?'\n",
      "# AuthorRole.ASSISTANT - Host: 'The special soup today is Clam Chowder. Would you like to know anything else about the menu?'\n",
      "# AuthorRole.USER: 'What is the special drink and what is its price?'\n",
      "# AuthorRole.ASSISTANT - Host: 'The special drink today is Chai Tea, and its price is $3.55. Is there anything else you'd like to know?'\n",
      "# AuthorRole.USER: 'How about the salad?'\n",
      "# AuthorRole.ASSISTANT - Host: 'The special salad today is the Cobb Salad. Would you like to know its price or more details about it?'\n",
      "# AuthorRole.USER: 'How much is the salad?'\n",
      "# AuthorRole.ASSISTANT - Host: 'The Cobb Salad is priced at $8.50. Is there anything else you need?'\n",
      "# AuthorRole.USER: 'Thank you'\n",
      "# AuthorRole.ASSISTANT - Host: 'You're welcome! If you have any more questions, feel free to ask. Have a great day!'\n"
     ]
    }
   ],
   "source": [
    "# Create the instance of the Kernel\n",
    "kernel = Kernel()\n",
    "\n",
    "service_id = \"agent\"\n",
    "kernel.add_service(AzureChatCompletion(service_id=service_id))\n",
    "\n",
    "settings = kernel.get_prompt_execution_settings_from_service_id(service_id=service_id)\n",
    "# Configure the function choice behavior to auto invoke kernel functions\n",
    "settings.function_choice_behavior = FunctionChoiceBehavior.Auto()\n",
    "\n",
    "kernel.add_plugin(MenuPlugin(), plugin_name=\"menu\")\n",
    "\n",
    "# Create the agent\n",
    "agent = ChatCompletionAgent(\n",
    "    service_id=\"agent\", kernel=kernel, name=HOST_NAME, instructions=HOST_INSTRUCTIONS, execution_settings=settings\n",
    ")\n",
    "\n",
    "# Define the chat history\n",
    "chat = ChatHistory()\n",
    "\n",
    "# Respond to user input\n",
    "await invoke_agent(agent, \"Hello\", chat)\n",
    "await invoke_agent(agent, \"What is the special soup?\", chat)\n",
    "await invoke_agent(agent, \"What is the special drink and what is its price?\", chat)\n",
    "await invoke_agent(agent, \"How about the salad?\", chat)\n",
    "await invoke_agent(agent, \"How much is the salad?\", chat)\n",
    "await invoke_agent(agent, \"Thank you\", chat)\n"
   ]
  }
 ],
 "metadata": {
  "kernelspec": {
   "display_name": ".venv",
   "language": "python",
   "name": "python3"
  },
  "language_info": {
   "codemirror_mode": {
    "name": "ipython",
    "version": 3
   },
   "file_extension": ".py",
   "mimetype": "text/x-python",
   "name": "python",
   "nbconvert_exporter": "python",
   "pygments_lexer": "ipython3",
   "version": "3.12.1"
  }
 },
 "nbformat": 4,
 "nbformat_minor": 2
}
