{
 "cells": [
  {
   "cell_type": "markdown",
   "metadata": {},
   "source": [
    "Install Semantic Kernel Library"
   ]
  },
  {
   "cell_type": "code",
   "execution_count": null,
   "metadata": {},
   "outputs": [],
   "source": [
    "%pip install semantic-kernel"
   ]
  },
  {
   "cell_type": "code",
   "execution_count": 3,
   "metadata": {},
   "outputs": [],
   "source": [
    "import asyncio\n",
    "import os\n",
    "import sys\n",
    "from datetime import datetime\n",
    "\n",
    "from semantic_kernel.agents import ChatCompletionAgent\n",
    "from semantic_kernel.connectors.ai.function_choice_behavior import FunctionChoiceBehavior\n",
    "from semantic_kernel.connectors.ai.open_ai import AzureChatCompletion\n",
    "from semantic_kernel.contents.chat_history import ChatHistory\n",
    "from semantic_kernel.contents.chat_message_content import ChatMessageContent\n",
    "from semantic_kernel.contents.utils.author_role import AuthorRole\n",
    "from semantic_kernel.kernel import Kernel\n",
    "\n",
    "from github import GitHubPlugin, GitHubSettings"
   ]
  },
  {
   "cell_type": "code",
   "execution_count": null,
   "metadata": {},
   "outputs": [],
   "source": [
    "kernel = Kernel()\n",
    "\n",
    "# Add the AzureChatCompletion AI Service to the Kernel\n",
    "service_id = \"agent\"\n",
    "kernel.add_service(AzureChatCompletion(service_id=service_id))\n",
    "\n",
    "settings = kernel.get_prompt_execution_settings_from_service_id(service_id=service_id)\n",
    "# Configure the function choice behavior to auto invoke kernel functions\n",
    "settings.function_choice_behavior = FunctionChoiceBehavior.Auto()\n",
    "\n",
    "# Set your GitHub Personal Access Token (PAT) value here\n",
    "gh_settings = GitHubSettings(token=\"add token here\")\n",
    "kernel.add_plugin(plugin=GitHubPlugin(gh_settings), plugin_name=\"GithubPlugin\")\n",
    "\n",
    "current_time = datetime.now().isoformat()"
   ]
  },
  {
   "cell_type": "code",
   "execution_count": 5,
   "metadata": {},
   "outputs": [],
   "source": [
    "# Create the agent\n",
    "agent = ChatCompletionAgent(\n",
    "    service_id=\"agent\",\n",
    "    kernel=kernel,\n",
    "    name=\"SampleAssistantAgent\",\n",
    "    instructions=f\"\"\"\n",
    "        You are an agent designed to query and retrieve information from a single GitHub repository in a read-only \n",
    "        manner.\n",
    "        You are also able to access the profile of the active user.\n",
    "\n",
    "        Use the current date and time to provide up-to-date details or time-sensitive responses.\n",
    "\n",
    "        The repository you are querying is a public repository with the following name: microsoft/semantic-kernel\n",
    "\n",
    "        The current date and time is: {current_time}. \n",
    "    \"\"\",\n",
    "        execution_settings=settings,\n",
    "    )\n",
    "\n",
    "history = ChatHistory()"
   ]
  },
  {
   "cell_type": "code",
   "execution_count": 6,
   "metadata": {},
   "outputs": [
    {
     "name": "stdout",
     "output_type": "stream",
     "text": [
      "REQUEST: /user\n",
      "\n",
      "Your GitHub username is **zzulueta**. You can view your profile [here](https://github.com/zzulueta).\n",
      "Your username is `zzulueta`.\n"
     ]
    }
   ],
   "source": [
    "is_complete: bool = False\n",
    "while not is_complete:\n",
    "    user_input = input(\"User:> \")\n",
    "    if not user_input:\n",
    "        continue\n",
    "\n",
    "    if user_input.lower() == \"exit\":\n",
    "        is_complete = True\n",
    "        break\n",
    "\n",
    "    history.add_message(ChatMessageContent(role=AuthorRole.USER, content=user_input))\n",
    "\n",
    "    async for response in agent.invoke(history=history):\n",
    "        print(f\"{response.content}\")\n"
   ]
  }
 ],
 "metadata": {
  "kernelspec": {
   "display_name": ".venv",
   "language": "python",
   "name": "python3"
  },
  "language_info": {
   "codemirror_mode": {
    "name": "ipython",
    "version": 3
   },
   "file_extension": ".py",
   "mimetype": "text/x-python",
   "name": "python",
   "nbconvert_exporter": "python",
   "pygments_lexer": "ipython3",
   "version": "3.12.1"
  }
 },
 "nbformat": 4,
 "nbformat_minor": 2
}
