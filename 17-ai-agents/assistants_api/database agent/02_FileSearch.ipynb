{
 "cells": [
  {
   "cell_type": "code",
   "execution_count": 1,
   "metadata": {},
   "outputs": [],
   "source": [
    "from openai import AzureOpenAI\n",
    "import json\n",
    "import os\n",
    "import time\n",
    "\n",
    "from dotenv import load_dotenv\n",
    "load_dotenv()\n",
    "\n",
    "azure_deployment=os.getenv(\"AZURE_OPENAI_DEPLOYMENT\")\n",
    "azure_endpoint=os.getenv(\"AZURE_OPENAI_ENDPOINT\")\n",
    "api_key=os.getenv(\"AZURE_OPENAI_KEY\")\n",
    "\n",
    "# Create a client\n",
    "client = AzureOpenAI(\n",
    "    api_version=\"2024-05-01-preview\",\n",
    "    azure_endpoint=azure_endpoint,\n",
    "    api_key=api_key\n",
    ")"
   ]
  },
  {
   "cell_type": "code",
   "execution_count": 2,
   "metadata": {},
   "outputs": [],
   "source": [
    "# Create a vector store\n",
    "vector_store = client.beta.vector_stores.create(name=\"Contoso Hiking Products\")\n",
    "\n",
    "# Ready the files for upload to OpenAI\n",
    "file_paths = [\"./data/contoso/product_info_1.md\", \n",
    "              \"./data/contoso/product_info_2.md\",\n",
    "              \"./data/contoso/product_info_3.md\",\n",
    "              \"./data/contoso/product_info_4.md\",\n",
    "              \"./data/contoso/product_info_5.md\",\n",
    "              \"./data/contoso/product_info_6.md\",\n",
    "              \"./data/contoso/product_info_7.md\",\n",
    "              \"./data/contoso/product_info_8.md\",\n",
    "              \"./data/contoso/product_info_9.md\",\n",
    "              \"./data/contoso/product_info_10.md\",\n",
    "              \"./data/contoso/product_info_11.md\",\n",
    "              \"./data/contoso/product_info_12.md\",\n",
    "              \"./data/contoso/product_info_13.md\",\n",
    "              \"./data/contoso/product_info_14.md\",\n",
    "              \"./data/contoso/product_info_15.md\",\n",
    "              \"./data/contoso/product_info_16.md\",\n",
    "              \"./data/contoso/product_info_17.md\",\n",
    "              \"./data/contoso/product_info_18.md\",\n",
    "              \"./data/contoso/product_info_19.md\",\n",
    "              \"./data/contoso/product_info_20.md\",\n",
    "              ]\n",
    "file_streams = [open(path, \"rb\") for path in file_paths]\n",
    "\n",
    "# Use the upload and poll SDK helper to upload the files, add them to the vector store,\n",
    "# and poll the status of the file batch for completion.\n",
    "file_batch = client.beta.vector_stores.file_batches.upload_and_poll(\n",
    "  vector_store_id=vector_store.id, files=file_streams\n",
    ")"
   ]
  },
  {
   "cell_type": "code",
   "execution_count": 3,
   "metadata": {},
   "outputs": [
    {
     "name": "stdout",
     "output_type": "stream",
     "text": [
      "completed\n",
      "FileCounts(cancelled=0, completed=20, failed=0, in_progress=0, total=20)\n",
      "vs_U6FGmPa5rJRo5Iavv88ZWRin\n"
     ]
    }
   ],
   "source": [
    "# You can print the status and the file counts of the batch to see the result of this operation.\n",
    "print(file_batch.status)\n",
    "print(file_batch.file_counts)\n",
    "print(vector_store.id)\n"
   ]
  },
  {
   "cell_type": "code",
   "execution_count": 4,
   "metadata": {},
   "outputs": [
    {
     "name": "stdout",
     "output_type": "stream",
     "text": [
      "Thread(id='thread_fLUeV1AewE5sM6edqrCg0D5v', created_at=1731715529, metadata={}, object='thread', tool_resources=ToolResources(code_interpreter=None, file_search=None))\n"
     ]
    }
   ],
   "source": [
    "# Create assistant\n",
    "assistant = client.beta.assistants.create(\n",
    "  name=\"Contoso Travel Assistant\",\n",
    "  instructions=\"\"\"\n",
    "  You are a Travel assistant that provides information. \n",
    "   When asked for products, you will provide recommendations using the product_info_XX.md files provided to you. \n",
    "   You will not provide recommendations outside of those product files \n",
    "  \"\"\",\n",
    "  model=azure_deployment,\n",
    "  tools=[{\"type\":\"file_search\"}],\n",
    "  tool_resources={\"file_search\":{\"vector_store_ids\":[vector_store.id]}},\n",
    "  temperature=1,\n",
    "  top_p=1\n",
    ")\n",
    "\n",
    "# Create thread\n",
    "thread = client.beta.threads.create()\n",
    "print(thread)\n",
    "\n"
   ]
  },
  {
   "cell_type": "code",
   "execution_count": 9,
   "metadata": {},
   "outputs": [
    {
     "name": "stdout",
     "output_type": "stream",
     "text": [
      "The Trailmaster X4 Tent is priced at $250 and the Adventure Dining Table is priced at $90【4:1†source】【4:2†source】.\n"
     ]
    }
   ],
   "source": [
    "#user_question =\"\"\"What is the price of the Trailmaster X4 Tent and its capacity?\"\"\"\n",
    "\n",
    "user_question =\"\"\"How much is the Trailmaster X4 Tent and the Adventure Dining Table?\"\"\"\n",
    "\n",
    "# Add a user question to the thread\n",
    "message = client.beta.threads.messages.create(\n",
    "  thread_id=thread.id,\n",
    "  role=\"user\",\n",
    "  content=user_question\n",
    ")\n",
    "\n",
    "# Run the thread\n",
    "run = client.beta.threads.runs.create(\n",
    "  thread_id=thread.id,\n",
    "  assistant_id=assistant.id\n",
    ")\n",
    "\n",
    "# Looping until the run completes or fails\n",
    "while run.status in ['queued', 'in_progress', 'cancelling']:\n",
    "  time.sleep(1)\n",
    "  run = client.beta.threads.runs.retrieve(\n",
    "    thread_id=thread.id,\n",
    "    run_id=run.id\n",
    "  )\n",
    "\n",
    "  if run.status == 'completed':\n",
    "    messages = client.beta.threads.messages.list(\n",
    "    thread_id=thread.id\n",
    "  )\n",
    "  \n",
    "  elif run.status == 'requires_action':\n",
    "    pass\n",
    "  \n",
    "  else:\n",
    "    print(run.status)\n",
    "\n",
    "\n",
    "# Print the assistant response\n",
    "content_block = messages.data[0].content[0]\n",
    "value = content_block.text.value\n",
    "print(value)"
   ]
  },
  {
   "cell_type": "markdown",
   "metadata": {},
   "source": [
    "# Delete Assistant"
   ]
  },
  {
   "cell_type": "code",
   "execution_count": 10,
   "metadata": {},
   "outputs": [],
   "source": [
    "response = client.beta.assistants.delete(assistant.id)"
   ]
  }
 ],
 "metadata": {
  "kernelspec": {
   "display_name": ".venv",
   "language": "python",
   "name": "python3"
  },
  "language_info": {
   "codemirror_mode": {
    "name": "ipython",
    "version": 3
   },
   "file_extension": ".py",
   "mimetype": "text/x-python",
   "name": "python",
   "nbconvert_exporter": "python",
   "pygments_lexer": "ipython3",
   "version": "3.12.1"
  }
 },
 "nbformat": 4,
 "nbformat_minor": 2
}
