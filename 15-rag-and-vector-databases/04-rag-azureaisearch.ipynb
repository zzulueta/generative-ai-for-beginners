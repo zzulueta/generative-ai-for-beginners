{
 "cells": [
  {
   "cell_type": "code",
   "execution_count": null,
   "metadata": {},
   "outputs": [],
   "source": [
    "%pip install azure-identity\n",
    "%pip install azure-search-documents"
   ]
  },
  {
   "cell_type": "code",
   "execution_count": 66,
   "metadata": {},
   "outputs": [],
   "source": [
    "\n",
    "import dotenv\n",
    "import openai\n",
    "import os\n",
    "from azure.search.documents import SearchClient\n",
    "from azure.search.documents.models import VectorizedQuery\n",
    "from azure.core.credentials import AzureKeyCredential\n",
    "\n",
    "dotenv.load_dotenv()\n",
    "\n",
    "# Initialize Azure search variables\n",
    "AZURE_SEARCH_ENDPOINT = os.getenv(\"AZURE_AI_SEARCH_ENDPOINT\")\n",
    "AZURE_SEARCH_API_KEY = os.getenv(\"AZURE_AI_SEARCH_API_KEY\")\n",
    "AZURE_SEARCH_INDEX = os.getenv(\"AZURE_AI_SEARCH_INDEX\")\n",
    "AZURE_AI_SEARCH_RESULTS = os.getenv(\"AZURE_AI_SEARCH_RESULTS\")\n",
    "\n",
    "# Set up OpenAI client based on environment variables\n",
    "AZURE_OPENAI_ENDPOINT = os.getenv(\"AZURE_OPENAI_ENDPOINT\")\n",
    "AZURE_OPENAI_ADA_DEPLOYMENT = os.getenv(\"AZURE_OPENAI_EMBEDDINGS_DEPLOYMENT\")\n",
    "AZURE_OPENAI_DEPLOYMENT = os.getenv(\"AZURE_OPENAI_DEPLOYMENT\")\n",
    "AZURE_OPENAI_KEY = os.getenv(\"AZURE_OPENAI_KEY\")\n",
    "AZURE_OPENAI_MAX_RESPONSE = int(os.getenv(\"AZURE_OPENAI_MAX_RESPONSE\"))\n",
    "\n",
    "azure_credential = AzureKeyCredential(AZURE_SEARCH_API_KEY)\n",
    "\n",
    "openai_client = openai.AzureOpenAI(\n",
    "    api_version=\"2023-07-01-preview\",\n",
    "    azure_endpoint=AZURE_OPENAI_ENDPOINT,\n",
    "    api_key=AZURE_OPENAI_KEY,)\n",
    "\n",
    "def get_embedding(text):\n",
    "    get_embeddings_response = openai_client.embeddings.create(model=AZURE_OPENAI_ADA_DEPLOYMENT, input=text)\n",
    "    return get_embeddings_response.data[0].embedding"
   ]
  },
  {
   "cell_type": "code",
   "execution_count": 96,
   "metadata": {},
   "outputs": [
    {
     "name": "stdout",
     "output_type": "stream",
     "text": [
      "Answer: The sources provided do not specify a particular amount that you can give to a worker for the service they provided. The payment would be subject to the discretion of the Agency Head and the availability of funds [BUDGET-CIRCULAR-NO-2023-3-DECEMBER-14-2023.md]. It's also important to note that any payment should comply with existing laws, rules, and regulations.\n"
     ]
    }
   ],
   "source": [
    "search_client = SearchClient(AZURE_SEARCH_ENDPOINT, AZURE_SEARCH_INDEX, credential=azure_credential)\n",
    "\n",
    "search_query = \"I have a worker who helped me in my project and I want to pay him a token for the service he provided. how much can i give him?\"\n",
    "search_vector = get_embedding(search_query)\n",
    "\n",
    "r = search_client.search(\n",
    "        search_query,\n",
    "        top=AZURE_AI_SEARCH_RESULTS, \n",
    "        vector_queries=[\n",
    "                VectorizedQuery(vector=search_vector, k_nearest_neighbors=50, fields=\"contentVector\")],\n",
    "        query_type=\"semantic\",\n",
    "        semantic_configuration_name=\"azureml-default\")\n",
    "\n",
    "# Initialize an empty list to accumulate all content and sources\n",
    "all_content_list = []\n",
    "\n",
    "# Iterate over the search results\n",
    "for doc in r:\n",
    "    content = doc[\"content\"].replace(\"\\n\", \" \")\n",
    "    source = doc[\"filepath\"]\n",
    "    combined_content = f\"Content: {content} Source: {source}\"\n",
    "    all_content_list.append(combined_content)  # Append combined content and source to the list\n",
    "    \n",
    "# Join the list into a single string with a space separator\n",
    "all_content = \" \".join(all_content_list)\n",
    "\n",
    "\n",
    "SYSTEM_MESSAGE = \"\"\"Assistant helps user questions about the circulars. \n",
    "    Answer only with the facts listed in the sources provided.\n",
    "    If there isn't enough information provided, say you don't know.\n",
    "    Each source has a name followed by a colon and the actual information including the source name for each fact you use.\n",
    "    Use square brackets to reference the source, for example [info1.txt]\"\"\"\n",
    "\n",
    "USER_MESSAGE = search_query + \"\\nSources:\" + all_content\n",
    "\n",
    "response = openai_client.chat.completions.create(\n",
    "    model=AZURE_OPENAI_DEPLOYMENT,\n",
    "    temperature=0.5,\n",
    "    max_tokens=AZURE_OPENAI_MAX_RESPONSE,\n",
    "    messages=[\n",
    "        {\"role\": \"system\", \"content\": SYSTEM_MESSAGE},\n",
    "        {\"role\": \"user\", \"content\": USER_MESSAGE},\n",
    "    ],\n",
    "    top_p=0.5\n",
    ")\n",
    "\n",
    "answer = response.choices[0].message.content\n",
    "print(f\"Answer: {answer}\")"
   ]
  },
  {
   "cell_type": "code",
   "execution_count": 82,
   "metadata": {},
   "outputs": [],
   "source": [
    "search_client = SearchClient(AZURE_SEARCH_ENDPOINT, AZURE_SEARCH_INDEX, credential=azure_credential)\n",
    "\n",
    "search_query = \"I have a worker who helped me in my project and I want to pay him token for the service he provided as a thank you. how much can i give him?\"\n",
    "search_vector = get_embedding(search_query)\n",
    "\n",
    "r = search_client.search(\n",
    "        search_query,\n",
    "        top=AZURE_AI_SEARCH_RESULTS, \n",
    "        vector_queries=[\n",
    "                VectorizedQuery(vector=search_vector, k_nearest_neighbors=50, fields=\"contentVector\")],\n",
    "        query_type=\"semantic\",\n",
    "        semantic_configuration_name=\"azureml-default\")\n",
    "\n",
    "# Initialize an empty list to accumulate all content and sources\n",
    "all_content_list = []\n",
    "\n",
    "# Iterate over the search results\n",
    "for doc in r:\n",
    "    content = doc[\"content\"].replace(\"\\n\", \" \")\n",
    "    source = doc[\"filepath\"]\n",
    "    combined_content = f\"Content: {content} Source: {source}\"\n",
    "    all_content_list.append(combined_content)  # Append combined content and source to the list\n",
    "    \n",
    "# Join the list into a single string with a space separator\n",
    "all_content = \" \".join(all_content_list)\n",
    "\n",
    "#print all_content into a txt file\n",
    "with open(\"all_content.txt\", \"w\") as file:\n",
    "    \n",
    "    file.write(all_content)"
   ]
  }
 ],
 "metadata": {
  "kernelspec": {
   "display_name": ".venv",
   "language": "python",
   "name": "python3"
  },
  "language_info": {
   "codemirror_mode": {
    "name": "ipython",
    "version": 3
   },
   "file_extension": ".py",
   "mimetype": "text/x-python",
   "name": "python",
   "nbconvert_exporter": "python",
   "pygments_lexer": "ipython3",
   "version": "3.12.1"
  }
 },
 "nbformat": 4,
 "nbformat_minor": 2
}
