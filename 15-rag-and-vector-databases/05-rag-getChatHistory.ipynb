{
 "cells": [
  {
   "cell_type": "code",
   "execution_count": 1,
   "metadata": {},
   "outputs": [
    {
     "name": "stderr",
     "output_type": "stream",
     "text": [
      "/tmp/ipykernel_14993/1136388276.py:7: UserWarning: You appear to be connected to a CosmosDB cluster. For more information regarding feature compatibility and support please visit https://www.mongodb.com/supportability/cosmosdb\n",
      "  client = MongoClient(connection_string)\n"
     ]
    },
    {
     "name": "stdout",
     "output_type": "stream",
     "text": [
      "Data exported to cosmos_db_data.csv\n"
     ]
    }
   ],
   "source": [
    "import os\n",
    "from pymongo import MongoClient\n",
    "import pandas as pd\n",
    "\n",
    "# Cosmos DB settings\n",
    "connection_string = os.getenv(\"AZCOSMOS_CONNSTR\")\n",
    "client = MongoClient(connection_string)\n",
    "databasename = os.getenv(\"AZCOSMOS_CHAT_DATABASE_NAME\")\n",
    "collectionname = os.getenv(\"AZCOSMOS_CHAT_CONTAINER_NAME\")\n",
    "db = client[databasename]\n",
    "collection = db[collectionname]\n",
    "\n",
    "# Retrieve all documents from the collection\n",
    "documents = list(collection.find())\n",
    "\n",
    "# Convert the documents to a DataFrame\n",
    "df = pd.DataFrame(documents)\n",
    "\n",
    "# Export the DataFrame to a CSV file\n",
    "csv_file_path = \"cosmos_db_data.csv\"\n",
    "df.to_csv(csv_file_path, index=False)\n",
    "\n",
    "print(f\"Data exported to {csv_file_path}\")\n"
   ]
  }
 ],
 "metadata": {
  "kernelspec": {
   "display_name": ".venv",
   "language": "python",
   "name": "python3"
  },
  "language_info": {
   "codemirror_mode": {
    "name": "ipython",
    "version": 3
   },
   "file_extension": ".py",
   "mimetype": "text/x-python",
   "name": "python",
   "nbconvert_exporter": "python",
   "pygments_lexer": "ipython3",
   "version": "3.12.1"
  }
 },
 "nbformat": 4,
 "nbformat_minor": 2
}
