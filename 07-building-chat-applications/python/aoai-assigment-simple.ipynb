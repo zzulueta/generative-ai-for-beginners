{
 "cells": [
  {
   "cell_type": "code",
   "execution_count": 10,
   "metadata": {},
   "outputs": [],
   "source": [
    "from openai import AzureOpenAI\n",
    "import os\n",
    "import dotenv\n",
    "\n",
    "# import dotenv\n",
    "dotenv.load_dotenv()\n",
    "\n",
    "# configure Azure OpenAI service client \n",
    "client = AzureOpenAI(\n",
    "  azure_endpoint = os.environ[\"AZURE_OPENAI_ENDPOINT\"], \n",
    "  api_key=os.environ['AZURE_OPENAI_KEY'],  \n",
    "  api_version = \"2023-10-01-preview\"\n",
    "  )\n",
    "\n",
    "deployment=os.environ['AZURE_OPENAI_DEPLOYMENT']"
   ]
  },
  {
   "cell_type": "code",
   "execution_count": 14,
   "metadata": {},
   "outputs": [
    {
     "data": {
      "text/plain": [
       "\"Pain in the foot can have several causes, including but not limited to:\\n\\n1. Sprains and strains: These are the most common type of foot injury. They usually occur when the foot twists, injuring the ligament.\\n\\n2. Plantar fasciitis: This is a condition that causes pain in the heel and the bottom of the foot. It's due to inflammation of a thick band of tissue that connects the heel bone to the toes.\\n\\n3. Fractures: A break or crack in any of the bones of the foot can lead to pain, swelling, and difficulty in walking.\\n\\n4. Tendonitis: This is inflammation of a tendon, a flexible band of tissue that connects muscles to bones. The most commonly affected tendons in the foot are the Achilles tendon and the posterior tibial tendon.\\n\\n5. Arthritis: This can cause pain, swelling and stiffness in the joints of the foot.\\n\\n6. Nerve-related conditions: Conditions such as peripheral neuropathy, pinched nerves (tarsal tunnel syndrome), or Morton's neuroma can cause foot pain.\\n\\n7. Certain illnesses: Diseases such as diabetes or gout can also result in foot pain.\\n\\nHowever, please understand that this advice is not a substitute for seeking medical attention. I would strongly suggest that you consult with a healthcare professional who could better assess your condition and determine the appropriate treatment plan for you.\""
      ]
     },
     "execution_count": 14,
     "metadata": {},
     "output_type": "execute_result"
    }
   ],
   "source": [
    "# Create your first prompt\n",
    "text_prompt = \" My foot hurts, what can be wrong?\"\n",
    "\n",
    "response = client.chat.completions.create(\n",
    "  model=deployment,\n",
    "  messages = [\n",
    "      {\"role\":\"system\", \"content\":\"I'm a doctor, specialist on surgery\"},\n",
    "      {\"role\":\"user\",\"content\":text_prompt},])\n",
    "\n",
    "\n",
    "response.choices[0].message.content"
   ]
  }
 ],
 "metadata": {
  "kernelspec": {
   "display_name": "Python 3",
   "language": "python",
   "name": "python3"
  },
  "language_info": {
   "codemirror_mode": {
    "name": "ipython",
    "version": 3
   },
   "file_extension": ".py",
   "mimetype": "text/x-python",
   "name": "python",
   "nbconvert_exporter": "python",
   "pygments_lexer": "ipython3",
   "version": "3.11.3"
  },
  "orig_nbformat": 4
 },
 "nbformat": 4,
 "nbformat_minor": 2
}
