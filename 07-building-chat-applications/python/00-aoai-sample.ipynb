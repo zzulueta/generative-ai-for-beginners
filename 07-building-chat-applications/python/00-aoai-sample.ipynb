{
 "cells": [
  {
   "cell_type": "code",
   "execution_count": null,
   "metadata": {},
   "outputs": [],
   "source": [
    "%pip install openai"
   ]
  },
  {
   "cell_type": "code",
   "execution_count": 12,
   "metadata": {},
   "outputs": [],
   "source": [
    "from openai import AzureOpenAI\n",
    "import os\n",
    "\n",
    "from dotenv import load_dotenv\n",
    "load_dotenv()\n",
    "\n",
    "azure_deployment=os.getenv(\"AZURE_OPENAI_DEPLOYMENT\")\n",
    "azure_endpoint=os.getenv(\"AZURE_OPENAI_ENDPOINT\")\n",
    "api_key=os.getenv(\"AZURE_OPENAI_KEY\")\n",
    "\n",
    "# Create an AzureOpenAI client\n",
    "client = AzureOpenAI(\n",
    "  azure_endpoint = azure_endpoint,\n",
    "  api_key= api_key,\n",
    "  api_version=\"2024-05-01-preview\"\n",
    ")"
   ]
  },
  {
   "cell_type": "code",
   "execution_count": 13,
   "metadata": {},
   "outputs": [],
   "source": [
    "# Create your transcript\n",
    "text_prompt = \"\"\"\n",
    "Customer: Hi there! I’m interested in the Trailblazer X4 Tent. Can you tell me more about it?\n",
    "\n",
    "Agent: Of course! The Trailblazer X4 Tent is one of our most popular models. It’s designed for four people and is perfect for both casual camping trips and more rugged adventures. What specific information are you looking for?\n",
    "\n",
    "Customer: I’m mainly interested in its features and how easy it is to set up. Also, is it good for all weather conditions?\n",
    "\n",
    "Agent: Great questions! The Trailblazer X4 Tent features a quick-pitch design, so it can be set up in just a few minutes. It has a durable, waterproof rainfly and a sturdy frame that can withstand strong winds. The tent also includes mesh windows for ventilation and a spacious interior with plenty of room for gear.\n",
    "\n",
    "Customer: That sounds impressive. How about the weight? Is it easy to carry around?\n",
    "\n",
    "Agent: Yes, the tent is designed with portability in mind. It weighs around 8 pounds, making it easy to carry in its included backpack-style carry bag. It’s perfect for hiking and camping trips where you need to move around frequently.\n",
    "\n",
    "Customer: Awesome! And what about the price? Are there any ongoing promotions?\n",
    "\n",
    "Agent: The Trailblazer X4 Tent is priced at $199.99. We currently have a promotion where you can get a 10% discount if you purchase it online through our website. Plus, we offer free shipping on all orders over $100.\n",
    "\n",
    "Customer: That’s a great deal. I think I’ll go ahead and order one. Thanks for all the information!\n",
    "\n",
    "Agent: You’re welcome! I’m glad I could help. If you have any other questions or need assistance with your order, feel free to reach out. Happy camping!\n",
    "\"\"\"\n"
   ]
  },
  {
   "cell_type": "code",
   "execution_count": 15,
   "metadata": {},
   "outputs": [
    {
     "name": "stdout",
     "output_type": "stream",
     "text": [
      "{\n",
      "  \"summary\": \"The customer inquired about the features, setup, weight, and price of the Trailblazer X4 Tent. The agent provided detailed information about the tent and mentioned an ongoing promotion. The customer decided to purchase the product.\",\n",
      "  \"customerSentiment\": \"positive\",\n",
      "  \"topic\": \"product\",\n",
      "  \"product\": \"Trailblazer X4 Tent\"\n",
      "}\n"
     ]
    }
   ],
   "source": [
    "system_prompt = \"\"\"You are an assistant that processes chat transcripts. \n",
    "You will extract in JSON format the summary of the transcript, the overall sentiment of the customer, the topic of the discussion, and the product.\n",
    "Possible values of sentiment are positive, negative, neutral.\n",
    "Possible values of topic are assistance, product, payment, and other. \n",
    "You will provide the response in this format:\n",
    "{\n",
    "  \"summary\": \"The customer is asking about a product\",\n",
    "  \"customerSentiment\": \"positive\",\n",
    "  \"topic\": \"assistance\",\n",
    "  \"product\": \"shoes\"\n",
    "}\n",
    "\"\"\"\n",
    "\n",
    "response = client.chat.completions.create(\n",
    "  model=azure_deployment,\n",
    "  messages = [\n",
    "      {\"role\":\"system\", \"content\":system_prompt},\n",
    "      {\"role\":\"user\",\"content\":text_prompt},],\n",
    "  max_tokens=100,\n",
    "  temperature=0.7,\n",
    ")\n",
    "\n",
    "\n",
    "print(response.choices[0].message.content)"
   ]
  }
 ],
 "metadata": {
  "kernelspec": {
   "display_name": ".venv",
   "language": "python",
   "name": "python3"
  },
  "language_info": {
   "codemirror_mode": {
    "name": "ipython",
    "version": 3
   },
   "file_extension": ".py",
   "mimetype": "text/x-python",
   "name": "python",
   "nbconvert_exporter": "python",
   "pygments_lexer": "ipython3",
   "version": "3.12.1"
  }
 },
 "nbformat": 4,
 "nbformat_minor": 2
}
