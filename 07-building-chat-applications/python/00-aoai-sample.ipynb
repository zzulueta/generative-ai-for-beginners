{
 "cells": [
  {
   "cell_type": "code",
   "execution_count": 1,
   "metadata": {},
   "outputs": [
    {
     "name": "stdout",
     "output_type": "stream",
     "text": [
      "Requirement already satisfied: openai in /workspaces/generative-ai-for-beginners/.venv/lib/python3.12/site-packages (1.42.0)\n",
      "Requirement already satisfied: anyio<5,>=3.5.0 in /workspaces/generative-ai-for-beginners/.venv/lib/python3.12/site-packages (from openai) (4.4.0)\n",
      "Requirement already satisfied: distro<2,>=1.7.0 in /workspaces/generative-ai-for-beginners/.venv/lib/python3.12/site-packages (from openai) (1.9.0)\n",
      "Requirement already satisfied: httpx<1,>=0.23.0 in /workspaces/generative-ai-for-beginners/.venv/lib/python3.12/site-packages (from openai) (0.27.0)\n",
      "Requirement already satisfied: jiter<1,>=0.4.0 in /workspaces/generative-ai-for-beginners/.venv/lib/python3.12/site-packages (from openai) (0.5.0)\n",
      "Requirement already satisfied: pydantic<3,>=1.9.0 in /workspaces/generative-ai-for-beginners/.venv/lib/python3.12/site-packages (from openai) (2.8.2)\n",
      "Requirement already satisfied: sniffio in /workspaces/generative-ai-for-beginners/.venv/lib/python3.12/site-packages (from openai) (1.3.1)\n",
      "Requirement already satisfied: tqdm>4 in /workspaces/generative-ai-for-beginners/.venv/lib/python3.12/site-packages (from openai) (4.66.5)\n",
      "Requirement already satisfied: typing-extensions<5,>=4.11 in /workspaces/generative-ai-for-beginners/.venv/lib/python3.12/site-packages (from openai) (4.12.2)\n",
      "Requirement already satisfied: idna>=2.8 in /workspaces/generative-ai-for-beginners/.venv/lib/python3.12/site-packages (from anyio<5,>=3.5.0->openai) (3.8)\n",
      "Requirement already satisfied: certifi in /workspaces/generative-ai-for-beginners/.venv/lib/python3.12/site-packages (from httpx<1,>=0.23.0->openai) (2024.7.4)\n",
      "Requirement already satisfied: httpcore==1.* in /workspaces/generative-ai-for-beginners/.venv/lib/python3.12/site-packages (from httpx<1,>=0.23.0->openai) (1.0.5)\n",
      "Requirement already satisfied: h11<0.15,>=0.13 in /workspaces/generative-ai-for-beginners/.venv/lib/python3.12/site-packages (from httpcore==1.*->httpx<1,>=0.23.0->openai) (0.14.0)\n",
      "Requirement already satisfied: annotated-types>=0.4.0 in /workspaces/generative-ai-for-beginners/.venv/lib/python3.12/site-packages (from pydantic<3,>=1.9.0->openai) (0.7.0)\n",
      "Requirement already satisfied: pydantic-core==2.20.1 in /workspaces/generative-ai-for-beginners/.venv/lib/python3.12/site-packages (from pydantic<3,>=1.9.0->openai) (2.20.1)\n",
      "\n",
      "\u001b[1m[\u001b[0m\u001b[34;49mnotice\u001b[0m\u001b[1;39;49m]\u001b[0m\u001b[39;49m A new release of pip is available: \u001b[0m\u001b[31;49m24.2\u001b[0m\u001b[39;49m -> \u001b[0m\u001b[32;49m24.3.1\u001b[0m\n",
      "\u001b[1m[\u001b[0m\u001b[34;49mnotice\u001b[0m\u001b[1;39;49m]\u001b[0m\u001b[39;49m To update, run: \u001b[0m\u001b[32;49mpip install --upgrade pip\u001b[0m\n",
      "Note: you may need to restart the kernel to use updated packages.\n"
     ]
    }
   ],
   "source": [
    "%pip install openai"
   ]
  },
  {
   "cell_type": "code",
   "execution_count": 1,
   "metadata": {},
   "outputs": [],
   "source": [
    "from openai import AzureOpenAI\n",
    "import os\n",
    "\n",
    "from dotenv import load_dotenv\n",
    "load_dotenv()\n",
    "\n",
    "azure_deployment=os.getenv(\"AZURE_OPENAI_DEPLOYMENT\")\n",
    "azure_endpoint=os.getenv(\"AZURE_OPENAI_ENDPOINT\")\n",
    "api_key=os.getenv(\"AZURE_OPENAI_KEY\")\n",
    "\n",
    "# Create an AzureOpenAI client\n",
    "client = AzureOpenAI(\n",
    "  azure_endpoint = azure_endpoint,\n",
    "  api_key= api_key,\n",
    "  api_version=\"2024-05-01-preview\"\n",
    ")"
   ]
  },
  {
   "cell_type": "code",
   "execution_count": 2,
   "metadata": {},
   "outputs": [],
   "source": [
    "# Create your transcript\n",
    "text_prompt = \"\"\"\n",
    "Customer: Hi there! I’m interested in the Trailblazer X4 Tent. Can you tell me more about it?\n",
    "\n",
    "Agent: Of course! The Trailblazer X4 Tent is one of our most popular models. It’s designed for four people and is perfect for both casual camping trips and more rugged adventures. What specific information are you looking for?\n",
    "\n",
    "Customer: I’m mainly interested in its features and how easy it is to set up. Also, is it good for all weather conditions?\n",
    "\n",
    "Agent: Great questions! The Trailblazer X4 Tent features a quick-pitch design, so it can be set up in just a few minutes. It has a durable, waterproof rainfly and a sturdy frame that can withstand strong winds. The tent also includes mesh windows for ventilation and a spacious interior with plenty of room for gear.\n",
    "\n",
    "Customer: That sounds impressive. How about the weight? Is it easy to carry around?\n",
    "\n",
    "Agent: Yes, the tent is designed with portability in mind. It weighs around 8 pounds, making it easy to carry in its included backpack-style carry bag. It’s perfect for hiking and camping trips where you need to move around frequently.\n",
    "\n",
    "Customer: Awesome! And what about the price? Are there any ongoing promotions?\n",
    "\n",
    "Agent: The Trailblazer X4 Tent is priced at $199.99. We currently have a promotion where you can get a 10% discount if you purchase it online through our website. Plus, we offer free shipping on all orders over $100.\n",
    "\n",
    "Customer: That’s a great deal. I think I’ll go ahead and order one. Thanks for all the information!\n",
    "\n",
    "Agent: You’re welcome! I’m glad I could help. If you have any other questions or need assistance with your order, feel free to reach out. Happy camping!\n",
    "\"\"\"\n"
   ]
  },
  {
   "cell_type": "code",
   "execution_count": 3,
   "metadata": {},
   "outputs": [
    {
     "name": "stdout",
     "output_type": "stream",
     "text": [
      "ChatCompletion(id='chatcmpl-AR2BfbSx9HQqIDjl2aT3MBbA3KDYh', choices=[Choice(finish_reason='stop', index=0, logprobs=None, message=ChatCompletionMessage(content='{\\n  \"summary\": \"The customer inquired about the Trailblazer X4 Tent, asking about its features, ease of setup, weight, and price. The agent provided detailed information about the tent and mentioned an ongoing online promotion. The customer was satisfied and decided to purchase the tent.\",\\n  \"customerSentiment\": \"positive\",\\n  \"topic\": \"product\",\\n  \"product\": \"Trailblazer X4 Tent\"\\n}', refusal=None, role='assistant', function_call=None, tool_calls=None), content_filter_results={'hate': {'filtered': False, 'severity': 'safe'}, 'protected_material_code': {'filtered': False, 'detected': False}, 'protected_material_text': {'filtered': False, 'detected': False}, 'self_harm': {'filtered': False, 'severity': 'safe'}, 'sexual': {'filtered': False, 'severity': 'safe'}, 'violence': {'filtered': False, 'severity': 'safe'}})], created=1731006627, model='gpt-4', object='chat.completion', service_tier=None, system_fingerprint=None, usage=CompletionUsage(completion_tokens=88, prompt_tokens=490, total_tokens=578), prompt_filter_results=[{'prompt_index': 0, 'content_filter_results': {'hate': {'filtered': False, 'severity': 'safe'}, 'jailbreak': {'filtered': False, 'detected': False}, 'self_harm': {'filtered': False, 'severity': 'safe'}, 'sexual': {'filtered': False, 'severity': 'safe'}, 'violence': {'filtered': False, 'severity': 'safe'}}}])\n"
     ]
    }
   ],
   "source": [
    "system_prompt = \"\"\"You are an assistant that processes chat transcripts. \n",
    "You will extract in JSON format the summary of the transcript, the overall sentiment of the customer, the topic of the discussion, and the product.\n",
    "Possible values of sentiment are positive, negative, neutral.\n",
    "Possible values of topic are assistance, product, payment, and other. \n",
    "You will provide the response in this format:\n",
    "{\n",
    "  \"summary\": \"The customer is asking about a product\",\n",
    "  \"customerSentiment\": \"positive\",\n",
    "  \"topic\": \"assistance\",\n",
    "  \"product\": \"shoes\"\n",
    "}\n",
    "\"\"\"\n",
    "\n",
    "response = client.chat.completions.create(\n",
    "  model=azure_deployment,\n",
    "  messages = [\n",
    "      {\"role\":\"system\", \"content\":system_prompt},\n",
    "      {\"role\":\"user\",\"content\":text_prompt},],\n",
    "  max_tokens=100,\n",
    "  temperature=0.7,\n",
    ")\n",
    "\n",
    "print(response)\n",
    "#print(response.choices[0].message.content)"
   ]
  }
 ],
 "metadata": {
  "kernelspec": {
   "display_name": ".venv",
   "language": "python",
   "name": "python3"
  },
  "language_info": {
   "codemirror_mode": {
    "name": "ipython",
    "version": 3
   },
   "file_extension": ".py",
   "mimetype": "text/x-python",
   "name": "python",
   "nbconvert_exporter": "python",
   "pygments_lexer": "ipython3",
   "version": "3.12.1"
  }
 },
 "nbformat": 4,
 "nbformat_minor": 2
}
