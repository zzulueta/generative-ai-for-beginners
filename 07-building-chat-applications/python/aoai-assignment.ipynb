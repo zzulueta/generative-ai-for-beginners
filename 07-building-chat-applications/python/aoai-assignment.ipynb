{
  "cells": [
    {
      "attachments": {},
      "cell_type": "markdown",
      "metadata": {
        "nteract": {
          "transient": {
            "deleting": false
          }
        }
      },
      "source": [
        "# Chapter 7: Building Chat Applications\n",
        "## Azure OpenAI API Quickstart"
      ]
    },
    {
      "attachments": {},
      "cell_type": "markdown",
      "metadata": {
        "nteract": {
          "transient": {
            "deleting": false
          }
        }
      },
      "source": [
        "## Overview\n",
        "This notebook is adapted from the [Azure OpenAI Samples Repository](https://github.com/Azure/azure-openai-samples?WT.mc_id=academic-105485-koreyst) that includes notebooks that also access the [OpenAI](notebook-openai.ipynb) service.\n",
        "\n",
        "The Python OpenAI API works with Azure OpenAI as well, with a few modifications. Learn more about the differences here: [How to switch between OpenAI and Azure OpenAI endpoints with Python](https://learn.microsoft.com/azure/ai-services/openai/how-to/switching-endpoints?WT.mc_id=academic-109527-jasmineg)\n",
        "\n",
        "For more quickstart examples please refer to the official [Azure Open AI Quickstart Documentation](https://learn.microsoft.com/azure/cognitive-services/openai/quickstart?pivots=programming-language-studio&WT.mc_id=academic-105485-koreyst)"
      ]
    },
    {
      "attachments": {},
      "cell_type": "markdown",
      "metadata": {
        "nteract": {
          "transient": {
            "deleting": false
          }
        }
      },
      "source": [
        "## Table of Contents  \n",
        "\n",
        "[Overview](#overview)  \n",
        "[Getting started with Azure OpenAI Service](#getting-started-with-azure-openai-service)  \n",
        "[Build your first prompt](#build-your-first-prompt)  \n",
        "\n",
        "[Use Cases](#use-cases)    \n",
        "[1. Summarize Text](#summarize-text)  \n",
        "[2. Classify Text](#classify-text)  \n",
        "[3. Generate New Product Names](#generate-new-product-names)  \n",
        "[4. Fine Tune a Classifier](#fine-tune-a-classifier)  \n",
        "[5. Embeddings](#embeddings)\n",
        "\n",
        "[References](#references)"
      ]
    },
    {
      "attachments": {},
      "cell_type": "markdown",
      "metadata": {
        "nteract": {
          "transient": {
            "deleting": false
          }
        }
      },
      "source": [
        "### Getting started with Azure OpenAI Service\n",
        "\n",
        "New customers will need to [apply for access](https://aka.ms/oai/access?WT.mc_id=academic-105485-koreyst) to Azure OpenAI Service.  \n",
        "After approval is complete, customers can log into the Azure portal, create an Azure OpenAI Service resource, and start experimenting with models via the studio  \n",
        "\n",
        "[Great resource for getting started quickly](https://techcommunity.microsoft.com/t5/educator-developer-blog/azure-openai-is-now-generally-available/ba-p/3719177?WT.mc_id=academic-105485-koreyst)\n"
      ]
    },
    {
      "attachments": {},
      "cell_type": "markdown",
      "metadata": {
        "nteract": {
          "transient": {
            "deleting": false
          }
        }
      },
      "source": [
        "### Build your first prompt  \n",
        "This short exercise will provide a basic introduction for submitting prompts to an OpenAI model for a simple task \"summarization\".  \n",
        "\n",
        "![](images/generative-AI-models-reduced.jpg)  \n",
        "\n",
        "\n",
        "**Steps**:  \n",
        "1. Install OpenAI library in your python environment  \n",
        "2. Load standard helper libraries and set your typical OpenAI security credentials for the OpenAI Service that you've created  \n",
        "3. Choose a model for your task  \n",
        "4. Create a simple prompt for the model  \n",
        "5. Submit your request to the model API!"
      ]
    },
    {
      "attachments": {},
      "cell_type": "markdown",
      "metadata": {
        "nteract": {
          "transient": {
            "deleting": false
          }
        }
      },
      "source": [
        "### 1. Install OpenAI"
      ]
    },
    {
      "cell_type": "markdown",
      "metadata": {},
      "source": [
        "  > [!NOTE] This step is not necessary if run this notebook on Codespaces or within a Devcontainer"
      ]
    },
    {
      "cell_type": "code",
      "execution_count": 4,
      "metadata": {},
      "outputs": [
        {
          "name": "stdout",
          "output_type": "stream",
          "text": [
            "Collecting numpy\n",
            "  Downloading numpy-1.26.4-cp311-cp311-win_amd64.whl (15.8 MB)\n",
            "     --------------------------------------- 15.8/15.8 MB 11.1 MB/s eta 0:00:00\n",
            "Requirement already satisfied: python-dotenv in c:\\python311\\lib\\site-packages (1.0.1)\n",
            "Installing collected packages: numpy\n",
            "Note: you may need to restart the kernel to use updated packages.\n"
          ]
        },
        {
          "name": "stderr",
          "output_type": "stream",
          "text": [
            "  WARNING: Failed to write executable - trying to use .deleteme logic\n",
            "ERROR: Could not install packages due to an OSError: [WinError 2] The system cannot find the file specified: 'c:\\\\Python311\\\\Scripts\\\\f2py.exe' -> 'c:\\\\Python311\\\\Scripts\\\\f2py.exe.deleteme'\n",
            "\n",
            "\n",
            "[notice] A new release of pip available: 22.3.1 -> 24.0\n",
            "[notice] To update, run: python.exe -m pip install --upgrade pip\n"
          ]
        }
      ],
      "source": [
        "%pip install numpy python-dotenv"
      ]
    },
    {
      "cell_type": "code",
      "execution_count": 1,
      "metadata": {
        "gather": {
          "logged": 1674254990318
        },
        "jupyter": {
          "outputs_hidden": true,
          "source_hidden": false
        },
        "nteract": {
          "transient": {
            "deleting": false
          }
        }
      },
      "outputs": [
        {
          "name": "stdout",
          "output_type": "stream",
          "text": [
            "Requirement already satisfied: openai in c:\\python311\\lib\\site-packages (1.12.0)\n",
            "Requirement already satisfied: python-dotenv in c:\\python311\\lib\\site-packages (1.0.1)\n",
            "Requirement already satisfied: anyio<5,>=3.5.0 in c:\\python311\\lib\\site-packages (from openai) (3.7.1)\n",
            "Requirement already satisfied: distro<2,>=1.7.0 in c:\\python311\\lib\\site-packages (from openai) (1.9.0)\n",
            "Requirement already satisfied: httpx<1,>=0.23.0 in c:\\python311\\lib\\site-packages (from openai) (0.27.0)\n",
            "Requirement already satisfied: pydantic<3,>=1.9.0 in c:\\python311\\lib\\site-packages (from openai) (2.6.2)\n",
            "Requirement already satisfied: sniffio in c:\\python311\\lib\\site-packages (from openai) (1.3.0)\n",
            "Requirement already satisfied: tqdm>4 in c:\\python311\\lib\\site-packages (from openai) (4.66.2)\n",
            "Requirement already satisfied: typing-extensions<5,>=4.7 in c:\\python311\\lib\\site-packages (from openai) (4.9.0)\n",
            "Requirement already satisfied: idna>=2.8 in c:\\python311\\lib\\site-packages (from anyio<5,>=3.5.0->openai) (3.6)\n",
            "Requirement already satisfied: certifi in c:\\python311\\lib\\site-packages (from httpx<1,>=0.23.0->openai) (2024.2.2)\n",
            "Requirement already satisfied: httpcore==1.* in c:\\python311\\lib\\site-packages (from httpx<1,>=0.23.0->openai) (1.0.4)\n",
            "Requirement already satisfied: h11<0.15,>=0.13 in c:\\python311\\lib\\site-packages (from httpcore==1.*->httpx<1,>=0.23.0->openai) (0.14.0)\n",
            "Requirement already satisfied: annotated-types>=0.4.0 in c:\\python311\\lib\\site-packages (from pydantic<3,>=1.9.0->openai) (0.6.0)\n",
            "Requirement already satisfied: pydantic-core==2.16.3 in c:\\python311\\lib\\site-packages (from pydantic<3,>=1.9.0->openai) (2.16.3)\n",
            "Requirement already satisfied: colorama in c:\\python311\\lib\\site-packages (from tqdm>4->openai) (0.4.6)\n",
            "Note: you may need to restart the kernel to use updated packages.\n"
          ]
        },
        {
          "name": "stderr",
          "output_type": "stream",
          "text": [
            "\n",
            "[notice] A new release of pip available: 22.3.1 -> 24.0\n",
            "[notice] To update, run: python.exe -m pip install --upgrade pip\n"
          ]
        }
      ],
      "source": [
        "%pip install openai python-dotenv"
      ]
    },
    {
      "attachments": {},
      "cell_type": "markdown",
      "metadata": {
        "nteract": {
          "transient": {
            "deleting": false
          }
        }
      },
      "source": [
        "### 2. Import helper libraries and instantiate credentials"
      ]
    },
    {
      "cell_type": "code",
      "execution_count": 2,
      "metadata": {
        "gather": {
          "logged": 1674829434433
        },
        "jupyter": {
          "outputs_hidden": false,
          "source_hidden": false
        },
        "nteract": {
          "transient": {
            "deleting": false
          }
        }
      },
      "outputs": [],
      "source": [
        "import os\n",
        "from openai import AzureOpenAI\n",
        "import numpy as np\n",
        "from dotenv import load_dotenv\n",
        "load_dotenv()\n",
        "\n",
        "#validate data inside .env file\n",
        "\n",
        "client = AzureOpenAI(\n",
        "  api_key=os.environ['AZURE_OPENAI_KEY'],  # this is also the default, it can be omitted\n",
        "  api_version = \"2023-05-15\"\n",
        "  )\n",
        "\n"
      ]
    },
    {
      "attachments": {},
      "cell_type": "markdown",
      "metadata": {
        "nteract": {
          "transient": {
            "deleting": false
          }
        }
      },
      "source": [
        "### 3. Finding the right model  \n",
        "The GPT-3.5-turbo or GPT-4 models can understand and generate natural language. The service offers four model capabilities, each with different levels of power and speed suitable for different tasks. \n",
        "\n",
        "[Azure OpenAI models](https://learn.microsoft.com/azure/cognitive-services/openai/concepts/models?WT.mc_id=academic-105485-koreyst)  \n",
        "![](images/a-b-c-d-models-reduced.jpg)  \n"
      ]
    },
    {
      "cell_type": "code",
      "execution_count": 3,
      "metadata": {
        "gather": {
          "logged": 1674742720788
        },
        "jupyter": {
          "outputs_hidden": true,
          "source_hidden": false
        },
        "nteract": {
          "transient": {
            "deleting": false
          }
        }
      },
      "outputs": [
        {
          "name": "stdout",
          "output_type": "stream",
          "text": [
            "GPT-4-Prod\n"
          ]
        }
      ],
      "source": [
        "# Select the General Purpose curie model for text\n",
        "model = os.environ['AZURE_OPENAI_DEPLOYMENT']\n",
        "print(model)"
      ]
    },
    {
      "attachments": {},
      "cell_type": "markdown",
      "metadata": {
        "nteract": {
          "transient": {
            "deleting": false
          }
        }
      },
      "source": [
        "## 4. Prompt Design  \n",
        "\n",
        "\"The magic of large language models is that by being trained to minimize this prediction error over vast quantities of text, the models end up learning concepts useful for these predictions. For example, they learn concepts like\"(1):\n",
        "\n",
        "* how to spell\n",
        "* how grammar works\n",
        "* how to paraphrase\n",
        "* how to answer questions\n",
        "* how to hold a conversation\n",
        "* how to write in many languages\n",
        "* how to code\n",
        "* etc.\n",
        "\n",
        "#### How to control a large language model  \n",
        "\"Of all the inputs to a large language model, by far the most influential is the text prompt(1).\n",
        "\n",
        "Large language models can be prompted to produce output in a few ways:\n",
        "\n",
        "- Instruction: Tell the model what you want\n",
        "- Completion: Induce the model to complete the beginning of what you want\n",
        "- Demonstration: Show the model what you want, with either:\n",
        "- A few examples in the prompt\n",
        "- Many hundreds or thousands of examples in a fine-tuning training dataset\n",
        "\n",
        "\n",
        "\n",
        "#### There are three basic guidelines to creating prompts:\n",
        "\n",
        "**Show and tell**. Make it clear what you want either through instructions, examples, or a combination of the two. If you want the model to rank a list of items in alphabetical order or to classify a paragraph by sentiment, show it that's what you want.\n",
        "\n",
        "**Provide quality data**. If you're trying to build a classifier or get the model to follow a pattern, make sure that there are enough examples. Be sure to proofread your examples — the model is usually smart enough to see through basic spelling mistakes and give you a response, but it also might assume this is intentional and it can affect the response.\n",
        "\n",
        "**Check your settings.** The temperature and top_p settings control how deterministic the model is in generating a response. If you're asking it for a response where there's only one right answer, then you'd want to set these lower. If you're looking for more diverse responses, then you might want to set them higher. The number one mistake people make with these settings is assuming that they're \"cleverness\" or \"creativity\" controls.\n",
        "\n",
        "\n",
        "Source: https://github.com/Azure/OpenAI/blob/main/How%20to/Completions.md"
      ]
    },
    {
      "attachments": {},
      "cell_type": "markdown",
      "metadata": {
        "nteract": {
          "transient": {
            "deleting": false
          }
        }
      },
      "source": [
        "![](images/prompt_design.jpg)\n",
        "image is creating your first text prompt!"
      ]
    },
    {
      "attachments": {},
      "cell_type": "markdown",
      "metadata": {
        "nteract": {
          "transient": {
            "deleting": false
          }
        }
      },
      "source": [
        "### 5. Submit!"
      ]
    },
    {
      "cell_type": "code",
      "execution_count": 4,
      "metadata": {
        "gather": {
          "logged": 1674494935186
        },
        "jupyter": {
          "outputs_hidden": false,
          "source_hidden": false
        },
        "nteract": {
          "transient": {
            "deleting": false
          }
        }
      },
      "outputs": [
        {
          "data": {
            "text/plain": [
              "'The use of the Oxford comma, also known as the serial comma, depends largely on style preferences and clarity of the sentence. Some style guides, such as The Chicago Manual of Style, recommend its use, while others, like The Associated Press Stylebook, advise against it, unless it is necessary for clarity. \\n\\nFor example, without an Oxford comma, the sentence \"I love my parents, Lady Gaga and Humpty Dumpty\" could be misconstrued as the speaker saying their parents are Lady Gaga and Humpty Dumpty. By adding the Oxford comma, \"I love my parents, Lady Gaga, and Humpty Dumpty\", the sentence clearly states they love four entities: their parents, Lady Gaga, and Humpty Dumpty. \\n\\nIn conclusion, the choice to use an Oxford comma should be based on whether it improves sentence clarity and adheres to the writing style you or your publisher prefer.'"
            ]
          },
          "execution_count": 4,
          "metadata": {},
          "output_type": "execute_result"
        }
      ],
      "source": [
        "# Create your first prompt\n",
        "text_prompt = \"Should oxford commas always be used?\"\n",
        "\n",
        "response = client.chat.completions.create(\n",
        "  model=model,\n",
        "  messages = [{\"role\":\"system\", \"content\":\"You are a helpful assistant.\"},\n",
        "               {\"role\":\"user\",\"content\":text_prompt},])\n",
        "\n",
        "response.choices[0].message.content"
      ]
    },
    {
      "attachments": {},
      "cell_type": "markdown",
      "metadata": {
        "nteract": {
          "transient": {
            "deleting": false
          }
        }
      },
      "source": [
        "### Repeat the same call, how do the results compare?"
      ]
    },
    {
      "cell_type": "code",
      "execution_count": 5,
      "metadata": {
        "gather": {
          "logged": 1674494940872
        },
        "jupyter": {
          "outputs_hidden": false,
          "source_hidden": false
        },
        "nteract": {
          "transient": {
            "deleting": false
          }
        }
      },
      "outputs": [
        {
          "data": {
            "text/plain": [
              "\"The use of the Oxford comma (also known as the serial comma) largely depends on the style guide you are following. In some styles, such as the Chicago Manual of Style, the use of the Oxford comma is compulsory. In others, like the Associated Press (AP) Style, it's not recommended unless it's needed for clarity.\\n\\nIn informal writing or everyday communication, it's often a matter of personal preference. Some people find that it can help clarify meaning, while others see it as unnecessary. Therefore, it's always best to adhere to a style guide if one is available or provided to you, or maintain consistency in your use or non-use of it.\""
            ]
          },
          "execution_count": 5,
          "metadata": {},
          "output_type": "execute_result"
        }
      ],
      "source": [
        "\n",
        "response = client.chat.completions.create(\n",
        "  model=model,\n",
        "  messages = [{\"role\":\"system\", \"content\":\"You are a helpful assistant.\"},\n",
        "               {\"role\":\"user\",\"content\":text_prompt},])\n",
        "\n",
        "response.choices[0].message.content"
      ]
    },
    {
      "attachments": {},
      "cell_type": "markdown",
      "metadata": {
        "nteract": {
          "transient": {
            "deleting": false
          }
        }
      },
      "source": [
        "## Summarize Text  \n",
        "#### Challenge  \n",
        "Summarize text by adding a 'tl;dr:' to the end of a text passage. Notice how the model understands how to perform a number of tasks with no additional instructions. You can experiment with more descriptive prompts than tl;dr to modify the model’s behavior and customize the summarization you receive(3).  \n",
        "\n",
        "Recent work has demonstrated substantial gains on many NLP tasks and benchmarks by pre-training on a large corpus of text followed by fine-tuning on a specific task. While typically task-agnostic in architecture, this method still requires task-specific fine-tuning datasets of thousands or tens of thousands of examples. By contrast, humans can generally perform a new language task from only a few examples or from simple instructions - something that current NLP systems still largely struggle to do. Here we show that scaling up language models greatly improves task-agnostic, few-shot performance, sometimes even reaching competitiveness with prior state-of-the-art fine-tuning approaches. \n",
        "\n",
        "\n",
        "\n",
        "Tl;dr"
      ]
    },
    {
      "attachments": {},
      "cell_type": "markdown",
      "metadata": {
        "nteract": {
          "transient": {
            "deleting": false
          }
        }
      },
      "source": [
        "# Exercises for several use cases  \n",
        "1. Summarize Text  \n",
        "2. Classify Text  \n",
        "3. Generate New Product Names\n",
        "4. Embeddings\n",
        "5. Fine tune a classifier"
      ]
    },
    {
      "cell_type": "code",
      "execution_count": 6,
      "metadata": {
        "gather": {
          "logged": 1674495198534
        },
        "jupyter": {
          "outputs_hidden": false,
          "source_hidden": false
        },
        "nteract": {
          "transient": {
            "deleting": false
          }
        }
      },
      "outputs": [],
      "source": [
        "prompt = \"Recent work has demonstrated substantial gains on many NLP tasks and benchmarks by pre-training on a large corpus of text followed by fine-tuning on a specific task. While typically task-agnostic in architecture, this method still requires task-specific fine-tuning datasets of thousands or tens of thousands of examples. By contrast, humans can generally perform a new language task from only a few examples or from simple instructions - something that current NLP systems still largely struggle to do. Here we show that scaling up language models greatly improves task-agnostic, few-shot performance, sometimes even reaching competitiveness with prior state-of-the-art fine-tuning approaches.\\n\\ntl;dr\"\n"
      ]
    },
    {
      "cell_type": "code",
      "execution_count": 7,
      "metadata": {
        "gather": {
          "logged": 1674495201868
        },
        "jupyter": {
          "outputs_hidden": false,
          "source_hidden": false
        },
        "nteract": {
          "transient": {
            "deleting": false
          }
        }
      },
      "outputs": [
        {
          "data": {
            "text/plain": [
              "'Recent work in Natural Language Processing (NLP) has shown significant improvements by using large pre-training datasets followed by task-specific fine-tuning. However, this method requires extensive fine-tuning datasets. Unlike this method, humans can typically perform new language tasks with only a few examples or instructions. By increasing the scale of language models, the performance of task-agnostic, few-shot learning can be greatly improved, sometimes even matching or exceeding the results achieved by traditional fine-tuning approaches.'"
            ]
          },
          "execution_count": 7,
          "metadata": {},
          "output_type": "execute_result"
        }
      ],
      "source": [
        "#Setting a few additional, typical parameters during API Call\n",
        "\n",
        "response = client.chat.completions.create(\n",
        "  model=model,\n",
        "  messages = [{\"role\":\"system\", \"content\":\"You are a helpful assistant.\"},\n",
        "               {\"role\":\"user\",\"content\":prompt},])\n",
        "\n",
        "response.choices[0].message.content"
      ]
    },
    {
      "attachments": {},
      "cell_type": "markdown",
      "metadata": {
        "nteract": {
          "transient": {
            "deleting": false
          }
        }
      },
      "source": [
        "## Classify Text  \n",
        "#### Challenge  \n",
        "Classify items into categories provided at inference time. In the following example, we provide both the categories and the text to classify in the prompt(*playground_reference). \n",
        "\n",
        "Customer Inquiry: Hello, one of the keys on my laptop keyboard broke recently and I'll need a replacement:\n",
        "\n",
        "Classified category:\n"
      ]
    },
    {
      "cell_type": "code",
      "execution_count": 8,
      "metadata": {
        "gather": {
          "logged": 1674499424645
        },
        "jupyter": {
          "outputs_hidden": false,
          "source_hidden": false
        },
        "nteract": {
          "transient": {
            "deleting": false
          }
        }
      },
      "outputs": [
        {
          "name": "stdout",
          "output_type": "stream",
          "text": [
            "Classify the following inquiry into one of the following: categories: [Pricing, Hardware Support, Software Support]\n",
            "\n",
            "inquiry: Hello, one of the keys on my laptop keyboard broke recently and I'll need a replacement:\n",
            "\n",
            "Classified category:\n"
          ]
        }
      ],
      "source": [
        "prompt = \"Classify the following inquiry into one of the following: categories: [Pricing, Hardware Support, Software Support]\\n\\ninquiry: Hello, one of the keys on my laptop keyboard broke recently and I'll need a replacement:\\n\\nClassified category:\"\n",
        "print(prompt)"
      ]
    },
    {
      "cell_type": "code",
      "execution_count": 9,
      "metadata": {
        "gather": {
          "logged": 1674499378518
        },
        "jupyter": {
          "outputs_hidden": false,
          "source_hidden": false
        },
        "nteract": {
          "transient": {
            "deleting": false
          }
        }
      },
      "outputs": [
        {
          "data": {
            "text/plain": [
              "'Hardware Support'"
            ]
          },
          "execution_count": 9,
          "metadata": {},
          "output_type": "execute_result"
        }
      ],
      "source": [
        "#Setting a few additional, typical parameters during API Call\n",
        "\n",
        "response = client.chat.completions.create(\n",
        "  model=model,\n",
        "  messages = [{\"role\":\"system\", \"content\":\"You are a helpful assistant.\"},\n",
        "               {\"role\":\"user\",\"content\":prompt},])\n",
        "\n",
        "response.choices[0].message.content"
      ]
    },
    {
      "attachments": {},
      "cell_type": "markdown",
      "metadata": {
        "nteract": {
          "transient": {
            "deleting": false
          }
        }
      },
      "source": [
        "## Generate New Product Names\n",
        "#### Challenge\n",
        "Create product names from examples words. Here we include in the prompt information about the product we are going to generate names for. We also provide a similar example to show the pattern we wish to receive. We have also set the temperature value high to increase randomness and more innovative responses.\n",
        "\n",
        "Product description: A home milkshake maker\n",
        "Seed words: fast, healthy, compact.\n",
        "Product names: HomeShaker, Fit Shaker, QuickShake, Shake Maker\n",
        "\n",
        "Product description: A pair of shoes that can fit any foot size.\n",
        "Seed words: adaptable, fit, omni-fit."
      ]
    },
    {
      "cell_type": "code",
      "execution_count": 18,
      "metadata": {
        "gather": {
          "logged": 1674257087279
        },
        "jupyter": {
          "outputs_hidden": false,
          "source_hidden": false
        },
        "nteract": {
          "transient": {
            "deleting": false
          }
        }
      },
      "outputs": [
        {
          "name": "stdout",
          "output_type": "stream",
          "text": [
            "Product description: A home milkshake maker\n",
            "Seed words: fast, healthy, compact.\n",
            "Product names: HomeShaker, Fit Shaker, QuickShake, Shake Maker\n",
            "\n",
            "Product description: A pair of shoes that can fit any foot size.\n",
            "Seed words: adaptable, fit, omni-fit.\n"
          ]
        }
      ],
      "source": [
        "prompt = \"Product description: A home milkshake maker\\nSeed words: fast, healthy, compact.\\nProduct names: HomeShaker, Fit Shaker, QuickShake, Shake Maker\\n\\nProduct description: A pair of shoes that can fit any foot size.\\nSeed words: adaptable, fit, omni-fit.\"\n",
        "\n",
        "print(prompt)"
      ]
    },
    {
      "cell_type": "code",
      "execution_count": 31,
      "metadata": {
        "jupyter": {
          "outputs_hidden": false,
          "source_hidden": false
        },
        "nteract": {
          "transient": {
            "deleting": false
          }
        }
      },
      "outputs": [
        {
          "data": {
            "text/plain": [
              "'Product names: OmniSteps, FlexiFit, UniFit Shoes, AllSize Steps'"
            ]
          },
          "execution_count": 31,
          "metadata": {},
          "output_type": "execute_result"
        }
      ],
      "source": [
        "#Setting a few additional, typical parameters during API Call\n",
        "\n",
        "response = client.chat.completions.create(\n",
        "  model=model,\n",
        "  messages = [{\"role\":\"system\", \"content\":\"You are a helpful assistant.\"},\n",
        "               {\"role\":\"user\",\"content\":prompt}], temperature=0.9)\n",
        "\n",
        "response.choices[0].message.content"
      ]
    },
    {
      "attachments": {},
      "cell_type": "markdown",
      "metadata": {
        "nteract": {
          "transient": {
            "deleting": false
          }
        }
      },
      "source": [
        "## Embeddings\n",
        "This section will show how to retrieve embeddings, and find similarities between words, sentences, and documents. In order to run the following noteboooks you need to deploy a model that uses `text-embedding-ada-002` as base model and set his deployment name inside .env file, using the `AZURE_OPENAI_EMBEDDINGS_DEPLOYMENT` variable."
      ]
    },
    {
      "attachments": {},
      "cell_type": "markdown",
      "metadata": {
        "nteract": {
          "transient": {
            "deleting": false
          }
        }
      },
      "source": [
        "### Model Taxonomy - Choosing an embedding model\n",
        "\n",
        "**Model taxonomy**: {family} - {capability} - {input-type} - {identifier}  \n",
        "\n",
        "{family}     --> text-embedding  (embeddings family)  \n",
        "{capability} --> ada             (all the other embedding models will be retired in 2024)  \n",
        "{input-type} --> n/a             (only specified for search models)  \n",
        "{identifier} --> 002             (version 002)  \n",
        "\n",
        "model = 'text-embedding-ada-002'"
      ]
    },
    {
      "cell_type": "markdown",
      "metadata": {},
      "source": [
        "  > [!NOTE] The following step is not necessary if run this notebook on Codespaces or within a Devcontainer"
      ]
    },
    {
      "cell_type": "code",
      "execution_count": 20,
      "metadata": {},
      "outputs": [
        {
          "name": "stdout",
          "output_type": "stream",
          "text": [
            "Collecting matplotlib\n",
            "  Downloading matplotlib-3.8.3-cp311-cp311-win_amd64.whl (7.6 MB)\n",
            "     ---------------------------------------- 7.6/7.6 MB 10.0 MB/s eta 0:00:00\n",
            "Collecting plotly\n",
            "  Downloading plotly-5.20.0-py3-none-any.whl (15.7 MB)\n",
            "     --------------------------------------- 15.7/15.7 MB 10.9 MB/s eta 0:00:00\n",
            "Collecting scikit-learn\n",
            "  Downloading scikit_learn-1.4.1.post1-cp311-cp311-win_amd64.whl (10.6 MB)\n",
            "     ---------------------------------------- 10.6/10.6 MB 8.3 MB/s eta 0:00:00\n",
            "Collecting pandas\n",
            "  Downloading pandas-2.2.1-cp311-cp311-win_amd64.whl (11.6 MB)\n",
            "     ---------------------------------------- 11.6/11.6 MB 6.4 MB/s eta 0:00:00\n",
            "Collecting contourpy>=1.0.1\n",
            "  Downloading contourpy-1.2.0-cp311-cp311-win_amd64.whl (187 kB)\n",
            "     -------------------------------------- 187.6/187.6 kB 5.7 MB/s eta 0:00:00\n",
            "Collecting cycler>=0.10\n",
            "  Downloading cycler-0.12.1-py3-none-any.whl (8.3 kB)\n",
            "Collecting fonttools>=4.22.0\n",
            "  Downloading fonttools-4.50.0-cp311-cp311-win_amd64.whl (2.2 MB)\n",
            "     ---------------------------------------- 2.2/2.2 MB 7.3 MB/s eta 0:00:00\n",
            "Collecting kiwisolver>=1.3.1\n",
            "  Downloading kiwisolver-1.4.5-cp311-cp311-win_amd64.whl (56 kB)\n",
            "     ---------------------------------------- 56.1/56.1 kB ? eta 0:00:00\n",
            "Requirement already satisfied: numpy<2,>=1.21 in c:\\python311\\lib\\site-packages (from matplotlib) (1.26.4)\n",
            "Requirement already satisfied: packaging>=20.0 in c:\\users\\ziggy\\appdata\\roaming\\python\\python311\\site-packages (from matplotlib) (24.0)\n",
            "Collecting pillow>=8\n",
            "  Downloading pillow-10.2.0-cp311-cp311-win_amd64.whl (2.6 MB)\n",
            "     ---------------------------------------- 2.6/2.6 MB 6.7 MB/s eta 0:00:00\n",
            "Collecting pyparsing>=2.3.1\n",
            "  Downloading pyparsing-3.1.2-py3-none-any.whl (103 kB)\n",
            "     -------------------------------------- 103.2/103.2 kB 6.2 MB/s eta 0:00:00\n",
            "Requirement already satisfied: python-dateutil>=2.7 in c:\\users\\ziggy\\appdata\\roaming\\python\\python311\\site-packages (from matplotlib) (2.9.0.post0)\n",
            "Collecting tenacity>=6.2.0\n",
            "  Downloading tenacity-8.2.3-py3-none-any.whl (24 kB)\n",
            "Collecting scipy>=1.6.0\n",
            "  Downloading scipy-1.12.0-cp311-cp311-win_amd64.whl (46.2 MB)\n",
            "     ---------------------------------------- 46.2/46.2 MB 5.7 MB/s eta 0:00:00\n",
            "Collecting joblib>=1.2.0\n",
            "  Downloading joblib-1.3.2-py3-none-any.whl (302 kB)\n",
            "     -------------------------------------- 302.2/302.2 kB 9.1 MB/s eta 0:00:00\n",
            "Collecting threadpoolctl>=2.0.0\n",
            "  Downloading threadpoolctl-3.4.0-py3-none-any.whl (17 kB)\n",
            "Collecting pytz>=2020.1\n",
            "  Downloading pytz-2024.1-py2.py3-none-any.whl (505 kB)\n",
            "     -------------------------------------- 505.5/505.5 kB 6.3 MB/s eta 0:00:00\n",
            "Collecting tzdata>=2022.7\n",
            "  Downloading tzdata-2024.1-py2.py3-none-any.whl (345 kB)\n",
            "     -------------------------------------- 345.4/345.4 kB 7.1 MB/s eta 0:00:00\n",
            "Requirement already satisfied: six>=1.5 in c:\\users\\ziggy\\appdata\\roaming\\python\\python311\\site-packages (from python-dateutil>=2.7->matplotlib) (1.16.0)\n",
            "Installing collected packages: pytz, tzdata, threadpoolctl, tenacity, scipy, pyparsing, pillow, kiwisolver, joblib, fonttools, cycler, contourpy, scikit-learn, plotly, pandas, matplotlib\n",
            "Note: you may need to restart the kernel to use updated packages.\n"
          ]
        },
        {
          "name": "stderr",
          "output_type": "stream",
          "text": [
            "ERROR: Could not install packages due to an OSError: [WinError 5] Access is denied: 'c:\\\\Python311\\\\share'\n",
            "Consider using the `--user` option or check the permissions.\n",
            "\n",
            "\n",
            "[notice] A new release of pip available: 22.3.1 -> 24.0\n",
            "[notice] To update, run: python.exe -m pip install --upgrade pip\n"
          ]
        }
      ],
      "source": [
        "# Dependencies for embeddings_utils\n",
        "%pip install matplotlib plotly scikit-learn pandas"
      ]
    },
    {
      "cell_type": "code",
      "execution_count": 12,
      "metadata": {
        "gather": {
          "logged": 1674829364153
        },
        "jupyter": {
          "outputs_hidden": false,
          "source_hidden": false
        },
        "nteract": {
          "transient": {
            "deleting": false
          }
        }
      },
      "outputs": [],
      "source": [
        "def cosine_similarity(a, b):\n",
        "    return np.dot(a, b) / (np.linalg.norm(a) * np.linalg.norm(b))"
      ]
    },
    {
      "cell_type": "code",
      "execution_count": 10,
      "metadata": {
        "gather": {
          "logged": 1674829424097
        },
        "jupyter": {
          "outputs_hidden": false,
          "source_hidden": false
        },
        "nteract": {
          "transient": {
            "deleting": false
          }
        }
      },
      "outputs": [
        {
          "data": {
            "text/plain": [
              "[-0.018057767301797867,\n",
              " -0.006895993836224079,\n",
              " 0.012825357727706432,\n",
              " -0.01352581474930048,\n",
              " -0.002873622579500079,\n",
              " 0.02039729245007038,\n",
              " -0.022316543385386467,\n",
              " -0.02410971187055111,\n",
              " -0.01231402438133955,\n",
              " -0.015143868513405323,\n",
              " -0.010773020796477795,\n",
              " 0.04342830181121826,\n",
              " -0.006069455295801163,\n",
              " -0.009736345149576664,\n",
              " 0.0015742758987471461,\n",
              " 0.007978199049830437,\n",
              " 0.03412624076008797,\n",
              " -0.0020050567109137774,\n",
              " 0.016026444733142853,\n",
              " -0.028550606220960617,\n",
              " -0.011802691034972668,\n",
              " 0.004934716038405895,\n",
              " 0.005295450799167156,\n",
              " 0.009330079890787601,\n",
              " -0.013273649848997593,\n",
              " -0.01265724841505289,\n",
              " 0.016446717083454132,\n",
              " -0.027443883940577507,\n",
              " -0.01773555763065815,\n",
              " -0.004122186452150345,\n",
              " 0.02441791258752346,\n",
              " -0.030119627714157104,\n",
              " -0.014709586277604103,\n",
              " -0.010331733152270317,\n",
              " -0.024361876770853996,\n",
              " -0.0019857941661030054,\n",
              " -0.005186880007386208,\n",
              " -0.01239807903766632,\n",
              " 0.030455846339464188,\n",
              " -0.008650637231767178,\n",
              " 0.012468124739825726,\n",
              " 0.008811742067337036,\n",
              " 0.018478041514754295,\n",
              " -0.01620856299996376,\n",
              " -0.013287658803164959,\n",
              " -0.018351959064602852,\n",
              " 0.0026704901829361916,\n",
              " -0.005554619710892439,\n",
              " -0.0010892098071053624,\n",
              " 0.004363843705505133,\n",
              " 0.014205257408320904,\n",
              " 0.012811348773539066,\n",
              " -0.021812213584780693,\n",
              " -0.006090469192713499,\n",
              " -0.012958444654941559,\n",
              " 0.0029138990212231874,\n",
              " -0.019542735069990158,\n",
              " 0.017609475180506706,\n",
              " 0.002866618102416396,\n",
              " 0.003926058299839497,\n",
              " -0.012671257369220257,\n",
              " -0.006444199476391077,\n",
              " -0.008958837948739529,\n",
              " -0.008188336156308651,\n",
              " -0.00860861036926508,\n",
              " -0.01009357813745737,\n",
              " -0.01271328516304493,\n",
              " 0.016012435778975487,\n",
              " -0.00237629865296185,\n",
              " 0.00940713007003069,\n",
              " 0.004875177051872015,\n",
              " 0.027457892894744873,\n",
              " 0.0059503777883946896,\n",
              " -0.0008974598604254425,\n",
              " 0.03692806512117386,\n",
              " 0.006664843298494816,\n",
              " -0.0018001730786636472,\n",
              " 0.01176066417247057,\n",
              " 0.0010489335982128978,\n",
              " 0.0023307688534259796,\n",
              " 0.020355265587568283,\n",
              " -0.01759546622633934,\n",
              " -0.000336438009981066,\n",
              " 0.022050369530916214,\n",
              " -0.0006282218964770436,\n",
              " -0.006055446341633797,\n",
              " 0.0045389579609036446,\n",
              " 0.01206886488944292,\n",
              " -0.013672910630702972,\n",
              " -0.03194081410765648,\n",
              " -0.013504800386726856,\n",
              " 0.014205257408320904,\n",
              " -0.0030802572146058083,\n",
              " 0.029223043471574783,\n",
              " -0.01926255226135254,\n",
              " 0.030988194048404694,\n",
              " 0.004419880453497171,\n",
              " 0.022974971681833267,\n",
              " -0.0020733510609716177,\n",
              " -0.02493624947965145,\n",
              " 0.009554225951433182,\n",
              " 0.024810168892145157,\n",
              " -0.014723595231771469,\n",
              " -0.008902802132070065,\n",
              " -0.029811426997184753,\n",
              " -0.0002613578108139336,\n",
              " 0.026645364239811897,\n",
              " -0.014317329972982407,\n",
              " 0.014779631048440933,\n",
              " 0.0073617976158857346,\n",
              " -0.028550606220960617,\n",
              " 0.021658113226294518,\n",
              " -0.0014989768387749791,\n",
              " -0.016460727900266647,\n",
              " -0.0060029118321835995,\n",
              " -0.0006833828520029783,\n",
              " 0.013953092508018017,\n",
              " -0.00765598937869072,\n",
              " -0.015241933055222034,\n",
              " -0.010485833510756493,\n",
              " 0.015648197382688522,\n",
              " 0.01973886415362358,\n",
              " 0.02764001302421093,\n",
              " 0.0003248366992920637,\n",
              " 0.025272469967603683,\n",
              " 0.00843349564820528,\n",
              " -0.0032956476788967848,\n",
              " -0.014135211706161499,\n",
              " 0.0070676058530807495,\n",
              " -0.006262080743908882,\n",
              " 0.03619959205389023,\n",
              " 0.012944435700774193,\n",
              " 0.018716197460889816,\n",
              " 0.011816700920462608,\n",
              " 0.009358098730444908,\n",
              " 0.014989768154919147,\n",
              " -0.010051550343632698,\n",
              " 0.01360986940562725,\n",
              " -0.045389577746391296,\n",
              " -0.02081756666302681,\n",
              " 0.022330552339553833,\n",
              " 0.02747190184891224,\n",
              " -0.016740908846259117,\n",
              " 0.002479615854099393,\n",
              " 8.323392830789089e-05,\n",
              " 0.015213914215564728,\n",
              " -0.00971533078700304,\n",
              " 0.008846765384078026,\n",
              " 0.006776916328817606,\n",
              " -0.008027231320738792,\n",
              " 0.021938296034932137,\n",
              " -0.011816700920462608,\n",
              " 0.009953486733138561,\n",
              " -0.00441637821495533,\n",
              " 0.0010217909002676606,\n",
              " 0.023717455565929413,\n",
              " -0.012685266323387623,\n",
              " 0.004784117452800274,\n",
              " 0.01385502889752388,\n",
              " -0.030904138460755348,\n",
              " -0.0004990752204321325,\n",
              " 0.01926255226135254,\n",
              " 0.03390209376811981,\n",
              " -0.002278234576806426,\n",
              " 0.016895009204745293,\n",
              " 0.03339776396751404,\n",
              " 0.011235321871936321,\n",
              " 0.020565401762723923,\n",
              " 0.0024375885259360075,\n",
              " -0.005246418993920088,\n",
              " -0.022904926910996437,\n",
              " 0.03460254892706871,\n",
              " -0.024361876770853996,\n",
              " 0.0010165374260395765,\n",
              " -0.02594490721821785,\n",
              " 0.010499842464923859,\n",
              " 0.014513458125293255,\n",
              " 0.028802769258618355,\n",
              " -0.006913505494594574,\n",
              " -0.01290240790694952,\n",
              " -0.03886132314801216,\n",
              " 0.012145915068686008,\n",
              " 0.005887336563318968,\n",
              " 0.009007870219647884,\n",
              " -0.018169840797781944,\n",
              " -0.004535455722361803,\n",
              " 0.013623878359794617,\n",
              " -0.0010270442580804229,\n",
              " -0.001430682372301817,\n",
              " -0.02857862412929535,\n",
              " 0.01625058986246586,\n",
              " 0.03925358131527901,\n",
              " 4.358699879958294e-05,\n",
              " -0.016979064792394638,\n",
              " -0.6912664771080017,\n",
              " -0.014877695590257645,\n",
              " 0.007747048512101173,\n",
              " -0.026645364239811897,\n",
              " 0.043176136910915375,\n",
              " 0.023955611512064934,\n",
              " 0.021419959142804146,\n",
              " 0.00354606076143682,\n",
              " -0.014709586277604103,\n",
              " 0.011494490318000317,\n",
              " -0.007431843318045139,\n",
              " -0.008398473262786865,\n",
              " -0.0001579310483066365,\n",
              " -0.0047420901246368885,\n",
              " 0.010548874735832214,\n",
              " -0.003094266401603818,\n",
              " -0.001959526911377907,\n",
              " -0.013651896268129349,\n",
              " -0.0020103100687265396,\n",
              " 0.01044380571693182,\n",
              " -0.026365181431174278,\n",
              " 0.024151738733053207,\n",
              " -0.01129135861992836,\n",
              " 0.024529986083507538,\n",
              " 0.020691484212875366,\n",
              " 0.020047064870595932,\n",
              " 0.004020620137453079,\n",
              " -0.005470565054565668,\n",
              " -0.01980890892446041,\n",
              " 0.023941602557897568,\n",
              " -0.03575129806995392,\n",
              " -0.0028088304679840803,\n",
              " -0.001377272536046803,\n",
              " -0.0027405358850955963,\n",
              " 0.05222603306174278,\n",
              " 0.013644891791045666,\n",
              " -0.01908043399453163,\n",
              " 0.003293896559625864,\n",
              " 0.001906992751173675,\n",
              " 0.004241263959556818,\n",
              " -0.02528647892177105,\n",
              " -0.012895403429865837,\n",
              " 0.012853376567363739,\n",
              " -0.021363921463489532,\n",
              " 0.005418031010776758,\n",
              " 0.004829647485166788,\n",
              " 0.004055642988532782,\n",
              " -0.026897529140114784,\n",
              " -0.0008497412782162428,\n",
              " -0.020131118595600128,\n",
              " -0.0036493781954050064,\n",
              " -0.008083268068730831,\n",
              " -0.005316464696079493,\n",
              " 0.012061860412359238,\n",
              " -0.007803085260093212,\n",
              " 0.010408783331513405,\n",
              " 0.04651030898094177,\n",
              " -0.025370532646775246,\n",
              " -0.0047350856475532055,\n",
              " 0.00940713007003069,\n",
              " -0.001462202868424356,\n",
              " 0.004587989766150713,\n",
              " -0.020383283495903015,\n",
              " -0.02815834991633892,\n",
              " -0.008167322725057602,\n",
              " 0.006587793119251728,\n",
              " -0.02057941071689129,\n",
              " 0.01908043399453163,\n",
              " 0.020789548754692078,\n",
              " -0.02279285341501236,\n",
              " 0.011095230467617512,\n",
              " 0.009911458939313889,\n",
              " -0.021013693884015083,\n",
              " 0.0009386116871610284,\n",
              " 0.0025146387051790953,\n",
              " 0.0029086454305797815,\n",
              " 0.02622509002685547,\n",
              " -0.012461120262742043,\n",
              " -0.0015129860257729888,\n",
              " 0.02778010442852974,\n",
              " 0.011732646264135838,\n",
              " -0.003989099524915218,\n",
              " -0.028690697625279427,\n",
              " -0.004703565035015345,\n",
              " 0.04057043790817261,\n",
              " -0.012335038743913174,\n",
              " -0.022288525477051735,\n",
              " 0.018099796026945114,\n",
              " 0.017399339005351067,\n",
              " 0.008265386335551739,\n",
              " -0.007078112568706274,\n",
              " 0.011487485840916634,\n",
              " 0.0038665197789669037,\n",
              " -0.011088225990533829,\n",
              " -0.001921001821756363,\n",
              " 0.011830709874629974,\n",
              " 0.005775263532996178,\n",
              " 0.007782071363180876,\n",
              " 0.018057767301797867,\n",
              " -0.00011765479575842619,\n",
              " 0.0029471705202013254,\n",
              " 0.002416574861854315,\n",
              " -0.008265386335551739,\n",
              " 0.011102234944701195,\n",
              " -0.0003653318271972239,\n",
              " 0.013245631940662861,\n",
              " 0.005544112995266914,\n",
              " 0.005768259055912495,\n",
              " 0.05102124810218811,\n",
              " -0.02538454160094261,\n",
              " 0.007071108091622591,\n",
              " -0.015788288787007332,\n",
              " -0.011438454501330853,\n",
              " -0.019654808565974236,\n",
              " -0.017483392730355263,\n",
              " -0.02528647892177105,\n",
              " 0.017917675897479057,\n",
              " 0.020775537937879562,\n",
              " -0.009911458939313889,\n",
              " 0.0017091138288378716,\n",
              " 0.014611521735787392,\n",
              " 0.01503179594874382,\n",
              " -0.014226270839571953,\n",
              " 0.0034847708884626627,\n",
              " 0.014023138210177422,\n",
              " 0.008447504602372646,\n",
              " -0.009239020757377148,\n",
              " -0.02328317239880562,\n",
              " -0.014128207229077816,\n",
              " -0.0058067841455340385,\n",
              " 0.0010550625156611204,\n",
              " 0.003624862292781472,\n",
              " 0.025790806859731674,\n",
              " -0.007810089737176895,\n",
              " 0.027527939528226852,\n",
              " -0.0028140838257968426,\n",
              " 0.0266033373773098,\n",
              " -0.008027231320738792,\n",
              " 0.028998898342251778,\n",
              " -0.012222965247929096,\n",
              " -0.0354711152613163,\n",
              " -0.0016740909777581692,\n",
              " 0.0072637335397303104,\n",
              " -0.008440500125288963,\n",
              " 0.006682354491204023,\n",
              " -0.025482606142759323,\n",
              " -0.02178419567644596,\n",
              " -0.010780025273561478,\n",
              " -0.018127813935279846,\n",
              " 0.0008593725506216288,\n",
              " -0.01994900032877922,\n",
              " -0.009182984009385109,\n",
              " -0.026561308652162552,\n",
              " 0.012580198235809803,\n",
              " 0.0073547931388020515,\n",
              " -0.01884227991104126,\n",
              " -0.00881874654442072,\n",
              " -0.01700708270072937,\n",
              " -0.0008243496995419264,\n",
              " -0.024151738733053207,\n",
              " 0.012881394475698471,\n",
              " 0.00485766539350152,\n",
              " 0.004321816377341747,\n",
              " 0.017889657989144325,\n",
              " -0.018660159781575203,\n",
              " -0.02338123694062233,\n",
              " -0.007333779241889715,\n",
              " 0.01326664537191391,\n",
              " -0.00034563150256872177,\n",
              " -0.024586021900177002,\n",
              " 0.013518810272216797,\n",
              " -0.011578544974327087,\n",
              " 0.004658035468310118,\n",
              " -0.017259247601032257,\n",
              " -0.013308673165738583,\n",
              " 0.014373366720974445,\n",
              " -0.015354005619883537,\n",
              " -0.006409176625311375,\n",
              " 0.01994900032877922,\n",
              " -0.00776806240901351,\n",
              " -0.0029296590946614742,\n",
              " 0.008727687411010265,\n",
              " -0.008902802132070065,\n",
              " 0.012888398952782154,\n",
              " 0.0216861329972744,\n",
              " 0.00035263606696389616,\n",
              " 0.004195734392851591,\n",
              " 0.033509835600852966,\n",
              " -0.007810089737176895,\n",
              " -0.009659294970333576,\n",
              " -0.0028438533190637827,\n",
              " -0.006125491578131914,\n",
              " 0.002924405736848712,\n",
              " 0.022666770964860916,\n",
              " 0.014191248454153538,\n",
              " 0.013763969764113426,\n",
              " -0.01860412396490574,\n",
              " 0.03533102571964264,\n",
              " 0.011487485840916634,\n",
              " 0.012650243937969208,\n",
              " 0.03286541625857353,\n",
              " -0.010387768968939781,\n",
              " 0.025748779997229576,\n",
              " -0.014527467079460621,\n",
              " 0.002258972031995654,\n",
              " -0.034826695919036865,\n",
              " -0.0013930328423157334,\n",
              " -0.016895009204745293,\n",
              " 0.007382811047136784,\n",
              " 0.02248465269804001,\n",
              " 0.0038490083534270525,\n",
              " -0.027457892894744873,\n",
              " 0.0003694907936733216,\n",
              " 0.01494774129241705,\n",
              " 0.011179285123944283,\n",
              " 0.012636234983801842,\n",
              " -0.00784511212259531,\n",
              " -0.004934716038405895,\n",
              " -0.0067944275215268135,\n",
              " -0.02251267060637474,\n",
              " 0.009841413237154484,\n",
              " -0.01194978691637516,\n",
              " 0.009077915921807289,\n",
              " -0.0394216887652874,\n",
              " -0.024123720824718475,\n",
              " 0.008727687411010265,\n",
              " 0.02500629611313343,\n",
              " 0.018590115010738373,\n",
              " -0.014044152572751045,\n",
              " -0.00881874654442072,\n",
              " 0.006913505494594574,\n",
              " -0.017063120380043983,\n",
              " 0.0119637968018651,\n",
              " -0.0006172772846184671,\n",
              " 0.0008050871547311544,\n",
              " 0.0038174877408891916,\n",
              " 0.030175665393471718,\n",
              " -0.012307019904255867,\n",
              " 0.03580733388662338,\n",
              " 0.0066438294015824795,\n",
              " -0.022568708285689354,\n",
              " 0.030119627714157104,\n",
              " 0.025762788951396942,\n",
              " -0.02258271723985672,\n",
              " 0.010941130109131336,\n",
              " 0.00480513134971261,\n",
              " 0.030231701210141182,\n",
              " -0.0022292027715593576,\n",
              " 0.0004631768388208002,\n",
              " 0.00028477932210080326,\n",
              " 0.004766606260091066,\n",
              " 0.002215193584561348,\n",
              " -0.026379190385341644,\n",
              " 0.01035975106060505,\n",
              " 0.024712104350328445,\n",
              " -0.0001662489667069167,\n",
              " 0.014387375675141811,\n",
              " 0.005418031010776758,\n",
              " 0.004654533229768276,\n",
              " 0.031436488032341,\n",
              " 0.026925547048449516,\n",
              " -0.010408783331513405,\n",
              " 0.007018573582172394,\n",
              " 0.00765598937869072,\n",
              " 0.02074752002954483,\n",
              " -0.009365103207528591,\n",
              " -0.00035745170316658914,\n",
              " -0.006465213373303413,\n",
              " -0.013056508265435696,\n",
              " 0.0010296710534021258,\n",
              " 0.003919053822755814,\n",
              " -0.013343695551156998,\n",
              " 0.023353219032287598,\n",
              " -0.011193294078111649,\n",
              " 0.02632315456867218,\n",
              " -0.0043813553638756275,\n",
              " 0.015017786994576454,\n",
              " 0.008566582575440407,\n",
              " 0.018450023606419563,\n",
              " 0.005666692741215229,\n",
              " -0.00419223215430975,\n",
              " -0.029251061379909515,\n",
              " 0.03294947370886803,\n",
              " 0.0059503777883946896,\n",
              " -0.026281125843524933,\n",
              " -0.012187942862510681,\n",
              " -0.028046276420354843,\n",
              " 0.01985093578696251,\n",
              " 0.006335628684610128,\n",
              " -0.005883834324777126,\n",
              " 0.010212655179202557,\n",
              " 0.0010375510901212692,\n",
              " -0.003684401046484709,\n",
              " -0.0012091629905626178,\n",
              " 0.00975035410374403,\n",
              " 0.012426097877323627,\n",
              " 0.024403903633356094,\n",
              " 0.003614355344325304,\n",
              " -0.00857358705252409,\n",
              " -0.005589642561972141,\n",
              " -0.004689556080847979,\n",
              " 0.014709586277604103,\n",
              " -0.0033219147007912397,\n",
              " -0.011368408799171448,\n",
              " 0.02846655063331127,\n",
              " -0.013876042328774929,\n",
              " 0.0022186958231031895,\n",
              " 0.009498190134763718,\n",
              " -0.0031835746485739946,\n",
              " -0.01304249931126833,\n",
              " 0.009035888127982616,\n",
              " -0.012720289640128613,\n",
              " -0.0064406972378492355,\n",
              " -0.005239414516836405,\n",
              " 0.02531449683010578,\n",
              " 0.004423382692039013,\n",
              " -0.0016679619438946247,\n",
              " 0.010499842464923859,\n",
              " 0.027513930574059486,\n",
              " 0.0075649297796189785,\n",
              " 0.010436801239848137,\n",
              " -0.028046276420354843,\n",
              " -0.0029699355363845825,\n",
              " 0.024600030854344368,\n",
              " 0.052001889795064926,\n",
              " 0.023815520107746124,\n",
              " -0.002593440003693104,\n",
              " -0.0073617976158857346,\n",
              " 0.0036984102334827185,\n",
              " 0.008195340633392334,\n",
              " -0.018688177689909935,\n",
              " -0.03533102571964264,\n",
              " -0.013553832657635212,\n",
              " -0.003757948987185955,\n",
              " -0.00382799468934536,\n",
              " -0.005785770248621702,\n",
              " 0.004325318615883589,\n",
              " -0.010205650702118874,\n",
              " 0.017623484134674072,\n",
              " 0.005747245159000158,\n",
              " -0.014429403468966484,\n",
              " 0.0036773965694010258,\n",
              " -0.01276231650263071,\n",
              " -0.030904138460755348,\n",
              " 0.00928104855120182,\n",
              " -0.0017082381527870893,\n",
              " 0.023185109719634056,\n",
              " 0.014653549529612064,\n",
              " 0.01011459156870842,\n",
              " -0.025342514738440514,\n",
              " 0.011361404322087765,\n",
              " 0.019248543307185173,\n",
              " 0.017553439363837242,\n",
              " -0.023941602557897568,\n",
              " -0.01137541327625513,\n",
              " 0.007382811047136784,\n",
              " 0.0180857852101326,\n",
              " 0.013721941970288754,\n",
              " -0.015143868513405323,\n",
              " 0.010878088884055614,\n",
              " 0.005193884484469891,\n",
              " -0.002027821494266391,\n",
              " 0.020047064870595932,\n",
              " -0.02580481581389904,\n",
              " 0.018351959064602852,\n",
              " 0.01922052539885044,\n",
              " 0.006976546254009008,\n",
              " 0.009316070936620235,\n",
              " -0.0012109141098335385,\n",
              " -0.021069729700684547,\n",
              " 0.004199236631393433,\n",
              " 0.03138044849038124,\n",
              " -0.014485440216958523,\n",
              " -0.014135211706161499,\n",
              " 0.018211867660284042,\n",
              " -0.0010139107471331954,\n",
              " -0.015213914215564728,\n",
              " -0.022190460935235023,\n",
              " 0.0035250470973551273,\n",
              " 0.006272587459534407,\n",
              " -0.018197858706116676,\n",
              " 0.006605304311960936,\n",
              " -0.028858806937932968,\n",
              " -0.03914150595664978,\n",
              " 0.0028088304679840803,\n",
              " -0.040822602808475494,\n",
              " 0.0020856091286987066,\n",
              " -0.018407996743917465,\n",
              " -0.010499842464923859,\n",
              " -0.015143868513405323,\n",
              " -8.991015783976763e-05,\n",
              " 0.005537108518183231,\n",
              " -0.01863214187324047,\n",
              " -0.003985597286373377,\n",
              " -0.003006709273904562,\n",
              " -0.003519793739542365,\n",
              " -0.0045389579609036446,\n",
              " 0.013693924061954021,\n",
              " 0.03858114406466484,\n",
              " 0.0012722040992230177,\n",
              " -0.01007956825196743,\n",
              " -0.010023532435297966,\n",
              " -0.0016951046418398619,\n",
              " 0.010969148017466068,\n",
              " -0.012096882797777653,\n",
              " -0.013252636417746544,\n",
              " 0.006850464269518852,\n",
              " -0.01480764988809824,\n",
              " -0.0034287343733012676,\n",
              " 0.009988509118556976,\n",
              " 0.0024008145555853844,\n",
              " 0.003302652155980468,\n",
              " 0.00964528601616621,\n",
              " 0.020803557708859444,\n",
              " 0.013918070122599602,\n",
              " -0.009316070936620235,\n",
              " -0.0001812431146390736,\n",
              " -0.019178498536348343,\n",
              " 0.01658680848777294,\n",
              " -0.009119942784309387,\n",
              " 0.021377932280302048,\n",
              " -0.018141822889447212,\n",
              " 0.002950672758743167,\n",
              " -0.018884306773543358,\n",
              " -0.0347706601023674,\n",
              " -0.013805996626615524,\n",
              " 0.00024078191199805588,\n",
              " 0.004363843705505133,\n",
              " 0.013056508265435696,\n",
              " -0.02427782118320465,\n",
              " -0.008398473262786865,\n",
              " 0.035695262253284454,\n",
              " -0.009841413237154484,\n",
              " -0.012419093400239944,\n",
              " 0.007922162301838398,\n",
              " 0.00692751444876194,\n",
              " -0.0030539901927113533,\n",
              " 0.011634581722319126,\n",
              " -0.013140562921762466,\n",
              " 0.00893782451748848,\n",
              " 0.003684401046484709,\n",
              " 0.022708797827363014,\n",
              " 0.011298363097012043,\n",
              " -0.024151738733053207,\n",
              " 0.01604045368731022,\n",
              " -0.0374884307384491,\n",
              " 0.009687312878668308,\n",
              " 0.021882260218262672,\n",
              " -0.003929561004042625,\n",
              " 0.0005734987207688391,\n",
              " -0.011788682080805302,\n",
              " -0.028046276420354843,\n",
              " -0.0007665620651096106,\n",
              " -0.0039645833894610405,\n",
              " 0.0011443707626312971,\n",
              " -0.00035044713877141476,\n",
              " -0.007249724585562944,\n",
              " 0.014527467079460621,\n",
              " -0.02801825851202011,\n",
              " -0.028690697625279427,\n",
              " 0.00014151410141494125,\n",
              " 0.011179285123944283,\n",
              " -0.02275082655251026,\n",
              " -0.009659294970333576,\n",
              " -0.014597512781620026,\n",
              " 0.014989768154919147,\n",
              " -0.0006006414187140763,\n",
              " -0.005088816396892071,\n",
              " 0.0023447780404239893,\n",
              " -0.03502282500267029,\n",
              " 0.00806925818324089,\n",
              " 0.003919053822755814,\n",
              " 0.01232803426682949,\n",
              " 0.03580733388662338,\n",
              " 0.006906500551849604,\n",
              " 0.008300408720970154,\n",
              " -0.01411419827491045,\n",
              " -0.014989768154919147,\n",
              " -0.016222571954131126,\n",
              " -0.040122147649526596,\n",
              " -0.010002518072724342,\n",
              " -0.004906697664409876,\n",
              " 0.023227136582136154,\n",
              " 0.00458098528906703,\n",
              " 0.02366141974925995,\n",
              " 0.0010357999708503485,\n",
              " 0.002866618102416396,\n",
              " 0.004609003663063049,\n",
              " -0.009442153386771679,\n",
              " 0.022120416164398193,\n",
              " -0.0017695281421765685,\n",
              " -0.014653549529612064,\n",
              " -0.021321894600987434,\n",
              " 0.02801825851202011,\n",
              " 0.008965842425823212,\n",
              " -0.0030820085667073727,\n",
              " 0.003757948987185955,\n",
              " -0.01999102719128132,\n",
              " -0.012643239460885525,\n",
              " 0.016054462641477585,\n",
              " -0.002973437774926424,\n",
              " -0.0007534284959547222,\n",
              " 0.011921769008040428,\n",
              " -0.023857546970248222,\n",
              " -0.015213914215564728,\n",
              " 0.002591688884422183,\n",
              " -0.01721722073853016,\n",
              " -0.005071304738521576,\n",
              " -0.02500629611313343,\n",
              " -0.013035494834184647,\n",
              " 0.04396064952015877,\n",
              " -0.0025776796974241734,\n",
              " 0.0060029118321835995,\n",
              " 0.007613961584866047,\n",
              " 0.02039729245007038,\n",
              " -0.012447111308574677,\n",
              " 0.0036949077621102333,\n",
              " -0.012391074560582638,\n",
              " -0.01340673677623272,\n",
              " -0.01964079961180687,\n",
              " -0.015368014574050903,\n",
              " -0.012152919545769691,\n",
              " -0.00405214074999094,\n",
              " 0.03093215823173523,\n",
              " 0.01933259889483452,\n",
              " 0.006223555654287338,\n",
              " -0.0095051946118474,\n",
              " 0.003067999379709363,\n",
              " -0.008335432037711143,\n",
              " 0.008342436514794827,\n",
              " -0.012047851458191872,\n",
              " -0.008587596006691456,\n",
              " 0.0024375885259360075,\n",
              " -0.00687498040497303,\n",
              " -0.027696048840880394,\n",
              " -0.010660947300493717,\n",
              " -0.02178419567644596,\n",
              " -0.028858806937932968,\n",
              " -0.0035723280161619186,\n",
              " 0.0246280487626791,\n",
              " -0.020145127549767494,\n",
              " 0.011851723305881023,\n",
              " -0.013539823703467846,\n",
              " -0.015410042367875576,\n",
              " -0.012096882797777653,\n",
              " 0.007214701734483242,\n",
              " 0.01842200569808483,\n",
              " 0.001845702761784196,\n",
              " 0.020061073824763298,\n",
              " 0.011347394436597824,\n",
              " 0.0011040945537388325,\n",
              " -0.014527467079460621,\n",
              " -0.003877026494592428,\n",
              " -0.017119156196713448,\n",
              " -0.015045804902911186,\n",
              " 0.018940342590212822,\n",
              " 0.00798520352691412,\n",
              " -0.005298953037708998,\n",
              " 0.009442153386771679,\n",
              " 0.006143003236502409,\n",
              " 0.018155831843614578,\n",
              " -0.001831693691201508,\n",
              " -0.039645835757255554,\n",
              " 0.0050222729332745075,\n",
              " 0.014527467079460621,\n",
              " -0.001314231427386403,\n",
              " -0.01290240790694952,\n",
              " -0.006097473669797182,\n",
              " -0.04087863862514496,\n",
              " 0.029699353501200676,\n",
              " -0.00349352671764791,\n",
              " -0.004234259482473135,\n",
              " 0.004024122375994921,\n",
              " 0.006710372865200043,\n",
              " -0.028914842754602432,\n",
              " 0.021658113226294518,\n",
              " -0.01825389638543129,\n",
              " 0.004773610737174749,\n",
              " 0.004419880453497171,\n",
              " -0.010639933869242668,\n",
              " -0.012776326388120651,\n",
              " 0.010801038704812527,\n",
              " -0.016965055838227272,\n",
              " 0.015059813857078552,\n",
              " -0.007936172187328339,\n",
              " 0.04782716929912567,\n",
              " -0.020103100687265396,\n",
              " 0.005848811473697424,\n",
              " -0.004630017094314098,\n",
              " 0.0108430664986372,\n",
              " -0.015424051322042942,\n",
              " -0.004220250062644482,\n",
              " -0.010590901598334312,\n",
              " 0.0229609627276659,\n",
              " -0.03185676038265228,\n",
              " -0.015844324603676796,\n",
              " 0.0009403628064319491,\n",
              " 0.0006663092062808573,\n",
              " 0.0015199905028566718,\n",
              " -0.003323666052892804,\n",
              " -0.018646150827407837,\n",
              " -0.008160318247973919,\n",
              " -0.02643522620201111,\n",
              " -0.01707712933421135,\n",
              " 0.008769715204834938,\n",
              " 0.005897843278944492,\n",
              " -0.003206339431926608,\n",
              " -0.010709979571402073,\n",
              " -0.01780560426414013,\n",
              " -0.024501966312527657,\n",
              " -0.007200692314654589,\n",
              " -0.005067802499979734,\n",
              " -0.02164410427212715,\n",
              " -0.019892964512109756,\n",
              " -0.02860664203763008,\n",
              " 0.0014228022191673517,\n",
              " 0.0012949688825756311,\n",
              " 0.017987722530961037,\n",
              " 0.010590901598334312,\n",
              " -0.017301274463534355,\n",
              " 0.023017000406980515,\n",
              " 0.043596409261226654,\n",
              " -0.02154604159295559,\n",
              " 0.010815047658979893,\n",
              " -0.03177270665764809,\n",
              " 0.009225011803209782,\n",
              " -0.01566220633685589,\n",
              " 0.02992350049316883,\n",
              " -0.006664843298494816,\n",
              " -0.018996380269527435,\n",
              " 0.025230441242456436,\n",
              " -0.015522114932537079,\n",
              " -0.01411419827491045,\n",
              " -0.007466866169124842,\n",
              " -0.01078702975064516,\n",
              " 0.011942782439291477,\n",
              " 0.015283959917724133,\n",
              " -0.00048594168038107455,\n",
              " -0.0010498091578483582,\n",
              " 0.017301274463534355,\n",
              " -0.004171218257397413,\n",
              " -0.0012651995057240129,\n",
              " -0.008489532396197319,\n",
              " 0.026589328423142433,\n",
              " 0.0020313237328082323,\n",
              " 0.004465410020202398,\n",
              " 0.016530772671103477,\n",
              " -0.024529986083507538,\n",
              " 0.014275303110480309,\n",
              " 0.012930426746606827,\n",
              " 0.012944435700774193,\n",
              " 0.015424051322042942,\n",
              " -0.023409254848957062,\n",
              " -0.026056980714201927,\n",
              " -0.01648874580860138,\n",
              " 0.004472414497286081,\n",
              " -0.017511412501335144,\n",
              " -0.015339996665716171,\n",
              " -0.006997560150921345,\n",
              " 0.00010835185821633786,\n",
              " -0.0006019547581672668,\n",
              " 0.02258271723985672,\n",
              " 0.004150204360485077,\n",
              " 0.005680702161043882,\n",
              " -0.010324728675186634,\n",
              " 0.0015506355557590723,\n",
              " -0.015872344374656677,\n",
              " 0.007831103168427944,\n",
              " -0.015382024459540844,\n",
              " 0.0038385014049708843,\n",
              " 0.004178222734481096,\n",
              " -0.002164410427212715,\n",
              " -0.029531244188547134,\n",
              " -0.031156303361058235,\n",
              " -0.01780560426414013,\n",
              " 0.031576577574014664,\n",
              " 0.00015366263687610626,\n",
              " -0.012482134625315666,\n",
              " -0.01985093578696251,\n",
              " 0.010576892644166946,\n",
              " -0.0485556423664093,\n",
              " -0.0032956476788967848,\n",
              " 0.0072777424938976765,\n",
              " -0.0014683319022879004,\n",
              " 0.020523374900221825,\n",
              " 0.007852116599678993,\n",
              " -0.013763969764113426,\n",
              " 0.031604595482349396,\n",
              " -0.004115181975066662,\n",
              " 0.007662993855774403,\n",
              " -0.006346135400235653,\n",
              " -0.01052786037325859,\n",
              " -0.009463166818022728,\n",
              " -0.018968360498547554,\n",
              " 0.003456752747297287,\n",
              " 0.022386588156223297,\n",
              " -0.020341256633400917,\n",
              " -0.005866323132067919,\n",
              " 0.0157602708786726,\n",
              " 0.009435148909687996,\n",
              " -0.003237860044464469,\n",
              " 0.009330079890787601,\n",
              " -0.017469383776187897,\n",
              " 0.004822643008083105,\n",
              " -0.01672689989209175,\n",
              " 0.02490823157131672,\n",
              " -0.014345348812639713,\n",
              " 0.018365968018770218,\n",
              " 0.006741893477737904,\n",
              " -0.021139776334166527,\n",
              " -0.012783330865204334,\n",
              " 0.003852510591968894,\n",
              " -0.0007267235778272152,\n",
              " -0.014569494873285294,\n",
              " 0.0028718714602291584,\n",
              " 0.00029353503487072885,\n",
              " 0.01853407733142376,\n",
              " 0.02015913650393486,\n",
              " -0.02046733722090721,\n",
              " -0.015269950963556767,\n",
              " -0.01239807903766632,\n",
              " -0.0029769400134682655,\n",
              " 0.014513458125293255,\n",
              " -0.009442153386771679,\n",
              " -0.017791593447327614,\n",
              " 0.030175665393471718,\n",
              " 0.0011653844267129898,\n",
              " 0.002621458377689123,\n",
              " -0.00703958747908473,\n",
              " 0.014142216183245182,\n",
              " -0.01745537482202053,\n",
              " -0.009617267176508904,\n",
              " 0.006626318208873272,\n",
              " -0.01943066157400608,\n",
              " -0.017063120380043983,\n",
              " -0.004668542183935642,\n",
              " 0.007761057466268539,\n",
              " -0.017189200967550278,\n",
              " 0.010569888167083263,\n",
              " 0.011991814710199833,\n",
              " -0.013308673165738583,\n",
              " 0.012370061129331589,\n",
              " 0.005162364337593317,\n",
              " 0.02265276201069355,\n",
              " -0.014933732338249683,\n",
              " -0.025622697547078133,\n",
              " -0.007172674406319857,\n",
              " -0.000531909114215523,\n",
              " -0.01212490163743496,\n",
              " 0.011977805756032467,\n",
              " 0.002836848609149456,\n",
              " -0.009330079890787601,\n",
              " -0.008762710727751255,\n",
              " 0.02050936594605446,\n",
              " -0.016782937571406364,\n",
              " 0.0038244922179728746,\n",
              " 0.016390681266784668,\n",
              " 0.007508893497288227,\n",
              " -0.03308956325054169,\n",
              " 0.027415866032242775,\n",
              " 0.24252605438232422,\n",
              " -0.015129859559237957,\n",
              " -0.0021363922860473394,\n",
              " 0.029054934158921242,\n",
              " -0.009813395328819752,\n",
              " -0.002812332706525922,\n",
              " 0.012888398952782154,\n",
              " -0.0009850169299170375,\n",
              " -0.007165669463574886,\n",
              " -0.01127734873443842,\n",
              " -0.0019560246728360653,\n",
              " -0.007116637658327818,\n",
              " 0.013070518150925636,\n",
              " -0.003218597499653697,\n",
              " 0.014233275316655636,\n",
              " -0.010934125632047653,\n",
              " -0.004605501424521208,\n",
              " -0.019038407132029533,\n",
              " -0.0028893828857690096,\n",
              " -0.0216861329972744,\n",
              " -0.008986856788396835,\n",
              " -0.005747245159000158,\n",
              " -0.03269730880856514,\n",
              " -0.011249330826103687,\n",
              " 0.03799276053905487,\n",
              " -0.0030715016182512045,\n",
              " -0.006633322685956955,\n",
              " 0.019024398177862167,\n",
              " 0.019864944741129875,\n",
              " 0.000915846845600754,\n",
              " -0.012790335342288017,\n",
              " -0.02109774947166443,\n",
              " 0.019136469811201096,\n",
              " 0.013820006512105465,\n",
              " -0.019836926832795143,\n",
              " 0.004861168097704649,\n",
              " -0.009799386374652386,\n",
              " 0.0009893947280943394,\n",
              " 0.014429403468966484,\n",
              " 0.017035100609064102,\n",
              " 0.022568708285689354,\n",
              " 0.009708326309919357,\n",
              " 0.0019752872176468372,\n",
              " -0.025412561371922493,\n",
              " -0.00038787777884863317,\n",
              " 0.006843459792435169,\n",
              " ...]"
            ]
          },
          "execution_count": 10,
          "metadata": {},
          "output_type": "execute_result"
        }
      ],
      "source": [
        "text = 'the quick brown fox jumped over the lazy dog'\n",
        "model= os.environ['AZURE_OPENAI_EMBEDDINGS_DEPLOYMENT']\n",
        "client.embeddings.create(input='[text]', model=model).data[0].embedding"
      ]
    },
    {
      "cell_type": "code",
      "execution_count": 13,
      "metadata": {
        "gather": {
          "logged": 1674829555255
        },
        "jupyter": {
          "outputs_hidden": false,
          "source_hidden": false
        },
        "nteract": {
          "transient": {
            "deleting": false
          }
        }
      },
      "outputs": [
        {
          "name": "stdout",
          "output_type": "stream",
          "text": [
            "0.9161762609368849\n",
            "0.8334429682277884\n",
            "0.7820358471285385\n"
          ]
        }
      ],
      "source": [
        "\n",
        "# compare several words\n",
        "automobile_embedding  = client.embeddings.create(input='automobile', model=model).data[0].embedding\n",
        "vehicle_embedding     = client.embeddings.create(input='vehicle', model=model).data[0].embedding\n",
        "dinosaur_embedding    = client.embeddings.create(input='dinosaur', model=model).data[0].embedding\n",
        "stick_embedding       = client.embeddings.create(input='stick', model=model).data[0].embedding\n",
        "\n",
        "print(cosine_similarity(automobile_embedding, vehicle_embedding))\n",
        "print(cosine_similarity(automobile_embedding, dinosaur_embedding))\n",
        "print(cosine_similarity(automobile_embedding, stick_embedding))"
      ]
    },
    {
      "attachments": {},
      "cell_type": "markdown",
      "metadata": {
        "nteract": {
          "transient": {
            "deleting": false
          }
        }
      },
      "source": [
        "## Comparing article from cnn daily news dataset\n",
        "source: https://huggingface.co/datasets/cnn_dailymail\n"
      ]
    },
    {
      "cell_type": "code",
      "execution_count": 36,
      "metadata": {},
      "outputs": [
        {
          "name": "stdout",
          "output_type": "stream",
          "text": [
            "Collecting pandas\n",
            "  Using cached pandas-2.2.1-cp311-cp311-win_amd64.whl (11.6 MB)\n",
            "Requirement already satisfied: python-dotenv in c:\\python311\\lib\\site-packages (1.0.1)\n",
            "Requirement already satisfied: numpy<2,>=1.23.2 in c:\\python311\\lib\\site-packages (from pandas) (1.26.4)\n",
            "Requirement already satisfied: python-dateutil>=2.8.2 in c:\\users\\ziggy\\appdata\\roaming\\python\\python311\\site-packages (from pandas) (2.9.0.post0)\n",
            "Requirement already satisfied: pytz>=2020.1 in c:\\python311\\lib\\site-packages (from pandas) (2024.1)\n",
            "Requirement already satisfied: tzdata>=2022.7 in c:\\python311\\lib\\site-packages (from pandas) (2024.1)\n",
            "Requirement already satisfied: six>=1.5 in c:\\users\\ziggy\\appdata\\roaming\\python\\python311\\site-packages (from python-dateutil>=2.8.2->pandas) (1.16.0)\n",
            "Installing collected packages: pandas\n",
            "Successfully installed pandas-2.2.1\n",
            "Note: you may need to restart the kernel to use updated packages.\n"
          ]
        },
        {
          "name": "stderr",
          "output_type": "stream",
          "text": [
            "\n",
            "[notice] A new release of pip available: 22.3.1 -> 24.0\n",
            "[notice] To update, run: python.exe -m pip install --upgrade pip\n"
          ]
        }
      ],
      "source": [
        "%pip install pandas python-dotenv"
      ]
    },
    {
      "cell_type": "code",
      "execution_count": 14,
      "metadata": {
        "gather": {
          "logged": 1674831122093
        },
        "jupyter": {
          "outputs_hidden": false,
          "source_hidden": false
        },
        "nteract": {
          "transient": {
            "deleting": false
          }
        }
      },
      "outputs": [
        {
          "data": {
            "text/html": [
              "<div>\n",
              "<style scoped>\n",
              "    .dataframe tbody tr th:only-of-type {\n",
              "        vertical-align: middle;\n",
              "    }\n",
              "\n",
              "    .dataframe tbody tr th {\n",
              "        vertical-align: top;\n",
              "    }\n",
              "\n",
              "    .dataframe thead th {\n",
              "        text-align: right;\n",
              "    }\n",
              "</style>\n",
              "<table border=\"1\" class=\"dataframe\">\n",
              "  <thead>\n",
              "    <tr style=\"text-align: right;\">\n",
              "      <th></th>\n",
              "      <th>articles</th>\n",
              "      <th>highlights</th>\n",
              "    </tr>\n",
              "  </thead>\n",
              "  <tbody>\n",
              "    <tr>\n",
              "      <th>0</th>\n",
              "      <td>BREMEN, Germany -- Carlos Alberto, who scored ...</td>\n",
              "      <td>Werder Bremen pay a club record $10.7 million ...</td>\n",
              "    </tr>\n",
              "    <tr>\n",
              "      <th>1</th>\n",
              "      <td>(CNN) -- Football superstar, celebrity, fashio...</td>\n",
              "      <td>Beckham has agreed to a five-year contract wit...</td>\n",
              "    </tr>\n",
              "    <tr>\n",
              "      <th>2</th>\n",
              "      <td>LOS ANGELES, California (CNN) -- Youssif, the ...</td>\n",
              "      <td>Boy on meeting Spider-Man: \"It was my favorite...</td>\n",
              "    </tr>\n",
              "  </tbody>\n",
              "</table>\n",
              "</div>"
            ],
            "text/plain": [
              "                                            articles  \\\n",
              "0  BREMEN, Germany -- Carlos Alberto, who scored ...   \n",
              "1  (CNN) -- Football superstar, celebrity, fashio...   \n",
              "2  LOS ANGELES, California (CNN) -- Youssif, the ...   \n",
              "\n",
              "                                          highlights  \n",
              "0  Werder Bremen pay a club record $10.7 million ...  \n",
              "1  Beckham has agreed to a five-year contract wit...  \n",
              "2  Boy on meeting Spider-Man: \"It was my favorite...  "
            ]
          },
          "execution_count": 14,
          "metadata": {},
          "output_type": "execute_result"
        }
      ],
      "source": [
        "import pandas as pd\n",
        "cnn_daily_articles = ['BREMEN, Germany -- Carlos Alberto, who scored in FC Porto\\'s Champions League final victory against Monaco in 2004, has joined Bundesliga club Werder Bremen for a club record fee of 7.8 million euros ($10.7 million). Carlos Alberto enjoyed success at FC Porto under Jose Mourinho. \"I\\'m here to win titles with Werder,\" the 22-year-old said after his first training session with his new club. \"I like Bremen and would only have wanted to come here.\" Carlos Alberto started his career with Fluminense, and helped them to lift the Campeonato Carioca in 2002. In January 2004 he moved on to FC Porto, who were coached by José Mourinho, and the club won the Portuguese title as well as the Champions League. Early in 2005, he moved to Corinthians, where he impressed as they won the Brasileirão,but in 2006 Corinthians had a poor season and Carlos Alberto found himself at odds with manager, Emerson Leão. Their poor relationship came to a climax at a Copa Sul-Americana game against Club Atlético Lanús, and Carlos Alberto declared that he would not play for Corinthians again while Leão remained as manager. Since January this year he has been on loan with his first club Fluminense. Bundesliga champions VfB Stuttgart said on Sunday that they would sign a loan agreement with Real Zaragoza on Monday for Ewerthon, the third top Brazilian player to join the German league in three days. A VfB spokesman said Ewerthon, who played in the Bundesliga for Borussia Dortmund from 2001 to 2005, was expected to join the club for their pre-season training in Austria on Monday. On Friday, Ailton returned to Germany where he was the league\\'s top scorer in 2004, signing a one-year deal with Duisburg on a transfer from Red Star Belgrade. E-mail to a friend .',\n",
        "                        '(CNN) -- Football superstar, celebrity, fashion icon, multimillion-dollar heartthrob. Now, David Beckham is headed for the Hollywood Hills as he takes his game to U.S. Major League Soccer. CNN looks at how Bekham fulfilled his dream of playing for Manchester United, and his time playing for England. The world\\'s famous footballer has begun a five-year contract with the Los Angeles Galaxy team, and on Friday Beckham will meet the press and reveal his new shirt number. This week, we take an in depth look at the life and times of Beckham, as CNN\\'s very own \"Becks,\" Becky Anderson, sets out to examine what makes the man tick -- as footballer, fashion icon and global phenomenon. It\\'s a long way from the streets of east London to the Hollywood Hills and Becky charts Beckham\\'s incredible rise to football stardom, a journey that has seen his skills grace the greatest stages in world soccer. She goes in pursuit of the current hottest property on the sports/celebrity circuit in the U.S. and along the way explores exactly what\\'s behind the man with the golden boot. CNN will look back at the life of Beckham, the wonderfully talented youngster who fulfilled his dream of playing for Manchester United, his marriage to pop star Victoria, and the trials and tribulations of playing for England. We\\'ll look at the highs (scoring against Greece), the lows (being sent off during the World Cup), the Man. U departure for the Galacticos of Madrid -- and now the Home Depot stadium in L.A. We\\'ll ask how Beckham and his family will adapt to life in Los Angeles -- the people, the places to see and be seen and the celebrity endorsement. Beckham is no stranger to exposure. He has teamed with Reggie Bush in an Adidas commercial, is the face of Motorola, is the face on a PlayStation game and doesn\\'t need fashion tips as he has his own international clothing line. But what does the star couple need to do to become an accepted part of Tinseltown\\'s glitterati? The road to major league football in the U.S.A. is a well-worn route for some of the world\\'s greatest players. We talk to some of the former greats who came before him and examine what impact these overseas stars had on U.S. soccer and look at what is different now. We also get a rare glimpse inside the David Beckham academy in L.A, find out what drives the kids and who are their heroes. The perception that in the U.S.A. soccer is a \"game for girls\" after the teenage years is changing. More and more young kids are choosing the European game over the traditional U.S. sports. E-mail to a friend .',\n",
        "                        'LOS ANGELES, California (CNN) -- Youssif, the 5-year-old burned Iraqi boy, rounded the corner at Universal Studios when suddenly the little boy hero met his favorite superhero. Youssif has always been a huge Spider-Man fan. Meeting him was \"my favorite thing,\" he said. Spider-Man was right smack dab in front of him, riding a four-wheeler amid a convoy of other superheroes. The legendary climber of buildings and fighter of evil dismounted, walked over to Youssif and introduced himself. Spidey then gave the boy from a far-away land a gentle hug, embracing him in his iconic blue and red tights. He showed Youssif a few tricks, like how to shoot a web from his wrist. Only this time, no web was spun. \"All right Youssif!\" Spider-Man said after the boy mimicked his wrist movement. Other superheroes crowded around to get a closer look. Even the Green Goblin stopped his villainous ways to tell the boy hi. Youssif remained unfazed. He didn\\'t take a liking to Spider-Man\\'s nemesis. Spidey was just too cool. \"It was my favorite thing,\" the boy said later. \"I want to see him again.\" He then felt compelled to add: \"I know it\\'s not the real Spider-Man.\" This was the day of dreams when the boy\\'s nightmares were, at least temporarily, forgotten. He met SpongeBob, Lassie and a 3-year-old orangutan named Archie. The hairy, brownish-red primate took to the boy, grabbing his hand and holding it. Even when Youssif pulled away, Archie would inch his hand back toward the boy\\'s and then snatch it. See Youssif enjoy being a boy again » . The boy giggled inside a play area where sponge-like balls shot out of toy guns. It was a far different artillery than what he was used to seeing in central Baghdad, as recently as a week ago. He squealed with delight and raced around the room collecting as many balls as he could. He rode a tram through the back stages at Universal Studios. At one point, the car shook. Fire and smoke filled the air, debris cascaded down and a big rig skidded toward the vehicle. The boy and his family survived the pretend earthquake unscathed. \"Even I was scared,\" the dad said. \"Well, I wasn\\'t,\" Youssif replied. The father and mother grinned from ear to ear throughout the day. Youssif pushed his 14-month-old sister, Ayaa, in a stroller. \"Did you even need to ask us if we were interested in coming here?\" Youssif\\'s father said in amazement. \"Other than my wedding day, this is the happiest day of my life,\" he said. Just a day earlier, the mother and father talked about their journey out of Iraq and to the United States. They also discussed that day nine months ago when masked men grabbed their son outside the family home, doused him in gas and set him on fire. His mother heard her boy screaming from inside. The father sought help for his boy across Baghdad, but no one listened. He remembers his son\\'s two months of hospitalization. The doctors didn\\'t use anesthetics. He could hear his boy\\'s piercing screams from the other side of the hospital. Watch Youssif meet his doctor and play with his little sister » . The father knew that speaking to CNN would put his family\\'s lives in jeopardy. The possibility of being killed was better than seeing his son suffer, he said. \"Anything for Youssif,\" he said. \"We had to do it.\" They described a life of utter chaos in Baghdad. Neighbors had recently given birth to a baby girl. Shortly afterward, the father was kidnapped and killed. Then, there was the time when some girls wore tanktops and jeans. They were snatched off the street by gunmen. The stories can be even more gruesome. The couple said they had heard reports that a young girl was kidnapped and beheaded --and her killers sewed a dog\\'s head on the corpse and delivered it to her family\\'s doorstep. \"These are just some of the stories,\" said Youssif\\'s mother, Zainab. Under Saddam Hussein, there was more security and stability, they said. There was running water and electricity most of the time. But still life was tough under the dictator, like the time when Zainab\\'s uncle disappeared and was never heard from again after he read a \"religious book,\" she said. Sitting in the parking lot of a Target in suburban Los Angeles, Youssif\\'s father watched as husbands and wives, boyfriends and girlfriends, parents and their children, came and went. Some held hands. Others smiled and laughed. \"Iraq finished,\" he said in what few English words he knows. He elaborated in Arabic: His homeland won\\'t be enjoying such freedoms anytime soon. It\\'s just not possible. Too much violence. Too many killings. His two children have only seen war. But this week, the family has seen a much different side of America -- an outpouring of generosity and a peaceful nation at home. \"It\\'s been a dream,\" the father said. He used to do a lot of volunteer work back in Baghdad. \"Maybe that\\'s why I\\'m being helped now,\" the father said. At Universal Studios, he looked out across the valley below. The sun glistened off treetops and buildings. It was a picturesque sight fit for a Hollywood movie. \"Good America, good America,\" he said in English. E-mail to a friend . CNN\\'s Arwa Damon contributed to this report.'\n",
        "]\n",
        "\n",
        "cnn_daily_article_highlights = ['Werder Bremen pay a club record $10.7 million for Carlos Alberto .\\nThe Brazilian midfielder won the Champions League with FC Porto in 2004 .\\nSince January he has been on loan with his first club, Fluminense .',\n",
        "                                'Beckham has agreed to a five-year contract with Los Angeles Galaxy .\\nNew contract took effect July 1, 2007 .\\nFormer English captain to meet press, unveil new shirt number Friday .\\nCNN to look at Beckham as footballer, fashion icon and global phenomenon .',\n",
        "                                'Boy on meeting Spider-Man: \"It was my favorite thing\"\\nYoussif also met SpongeBob, Lassie and an orangutan at Universal Studios .\\nDad: \"Other than my wedding day, this is the happiest day of my life\"' \n",
        "]\n",
        "\n",
        "cnn_df = pd.DataFrame({\"articles\":cnn_daily_articles, \"highlights\":cnn_daily_article_highlights})\n",
        "\n",
        "cnn_df.head()                     "
      ]
    },
    {
      "cell_type": "code",
      "execution_count": 15,
      "metadata": {},
      "outputs": [
        {
          "name": "stdout",
          "output_type": "stream",
          "text": [
            "articles      (CNN) -- Football superstar, celebrity, fashio...\n",
            "highlights    Beckham has agreed to a five-year contract wit...\n",
            "Name: 1, dtype: object\n"
          ]
        }
      ],
      "source": [
        "second_row = cnn_df.iloc[1]\n",
        "print(second_row)"
      ]
    },
    {
      "cell_type": "code",
      "execution_count": 19,
      "metadata": {
        "gather": {
          "logged": 1674831294043
        },
        "jupyter": {
          "outputs_hidden": false,
          "source_hidden": false
        },
        "nteract": {
          "transient": {
            "deleting": false
          }
        }
      },
      "outputs": [
        {
          "name": "stdout",
          "output_type": "stream",
          "text": [
            "0.7621254342360414\n",
            "0.7103234824922885\n",
            "0.7621254342360414\n",
            "0.7739931272098199\n"
          ]
        }
      ],
      "source": [
        "article1_embedding    = client.embeddings.create(input=cnn_df.articles.iloc[0], model=model).data[0].embedding\n",
        "article2_embedding    = client.embeddings.create(input=cnn_df.articles.iloc[1], model=model).data[0].embedding\n",
        "article3_embedding    = client.embeddings.create(input=cnn_df.articles.iloc[2], model=model).data[0].embedding\n",
        "\n",
        "print(cosine_similarity(article1_embedding, article2_embedding))\n",
        "print(cosine_similarity(article1_embedding, article3_embedding))\n",
        "print(cosine_similarity(article2_embedding, article1_embedding))\n",
        "print(cosine_similarity(article2_embedding, article3_embedding))"
      ]
    },
    {
      "attachments": {},
      "cell_type": "markdown",
      "metadata": {
        "nteract": {
          "transient": {
            "deleting": false
          }
        }
      },
      "source": [
        "# References  \n",
        "- [Azure Documentation - Azure Open AI Models](https://learn.microsoft.com/azure/cognitive-services/openai/concepts/models?WT.mc_id=academic-105485-koreyst)  \n",
        "- [OpenAI Studio Examples](https://oai.azure.com/portal?WT.mc_id=academic-105485-koreyst)  "
      ]
    },
    {
      "attachments": {},
      "cell_type": "markdown",
      "metadata": {
        "nteract": {
          "transient": {
            "deleting": false
          }
        }
      },
      "source": [
        "# For More Help  \n",
        "[OpenAI Commercialization Team](AzureOpenAITeam@microsoft.com)  \n",
        "AI Specialized CSAs [aka.ms/airangers](https://aka.ms/airangers?WT.mc_id=academic-105485-koreyst)"
      ]
    },
    {
      "attachments": {},
      "cell_type": "markdown",
      "metadata": {
        "nteract": {
          "transient": {
            "deleting": false
          }
        }
      },
      "source": [
        "# Contributors\n",
        "* Louis Li  \n"
      ]
    }
  ],
  "metadata": {
    "kernel_info": {
      "name": "python310-sdkv2"
    },
    "kernelspec": {
      "display_name": "base",
      "language": "python",
      "name": "python3"
    },
    "language_info": {
      "codemirror_mode": {
        "name": "ipython",
        "version": 3
      },
      "file_extension": ".py",
      "mimetype": "text/x-python",
      "name": "python",
      "nbconvert_exporter": "python",
      "pygments_lexer": "ipython3",
      "version": "3.11.3"
    },
    "microsoft": {
      "host": {
        "AzureML": {
          "notebookHasBeenCompleted": true
        }
      }
    },
    "nteract": {
      "version": "nteract-front-end@1.0.0"
    }
  },
  "nbformat": 4,
  "nbformat_minor": 2
}
